{
 "cells": [
  {
   "cell_type": "code",
   "execution_count": null,
   "id": "42cfa1d8",
   "metadata": {
    "jupyter": {
     "source_hidden": true
    }
   },
   "outputs": [],
   "source": [
    "import os\n",
    "import time\n",
    "import numpy as np\n",
    "\n",
    "from dask import dataframe as dd\n",
    "import dask_histogram\n",
    "\n",
    "import matplotlib.pyplot as plt\n",
    "import matplotlib.patches as patches\n",
    "from matplotlib.colors import LogNorm\n",
    "from copy import copy\n",
    "\n",
    "from iminuit import Minuit"
   ]
  },
  {
   "cell_type": "code",
   "execution_count": null,
   "id": "a2b109dd",
   "metadata": {
    "jupyter": {
     "source_hidden": true
    }
   },
   "outputs": [],
   "source": [
    "filepath = \"/DATA_MASTER_PATH/2308_zoptical-zanalyze_final_vars/pred2_norm_conv1plus_withgencls_FINAL/\"\n",
    "\n",
    "def filesel(s):\n",
    "    sel = True\n",
    "    return sel\n",
    "\n",
    "files_2pi = [s for s in os.listdir(filepath) if ((os.path.isfile(os.path.join(filepath, s))) & filesel(s) & (\"2p0_mal\" in s))]\n",
    "files_sig = [s for s in os.listdir(filepath) if ((os.path.isfile(os.path.join(filepath, s))) & filesel(s) & (\"sig_mal\" in s))]\n",
    "files_lam = [s for s in os.listdir(filepath) if ((os.path.isfile(os.path.join(filepath, s))) & filesel(s) & (\"lambda\" in s))]"
   ]
  },
  {
   "cell_type": "code",
   "execution_count": null,
   "id": "4a5a67de",
   "metadata": {
    "jupyter": {
     "source_hidden": true
    }
   },
   "outputs": [],
   "source": [
    "def histsum(files):\n",
    "\n",
    "    n_decays = 0\n",
    "\n",
    "    for ifile, file, in enumerate(files):\n",
    "            \n",
    "        n_decays_0 = n_decays\n",
    "        for i in range(1, 10):\n",
    "            if \"_%dM_\"%(i) in file:\n",
    "                n_decays += i*1e6\n",
    "            if \"_%dM_\"%(10*i) in file:\n",
    "                n_decays += i*10e6\n",
    "            if \"_%dM_\"%(100*i) in file:\n",
    "                n_decays += i*100e6\n",
    "            if \"_%dG_\"%(i) in file:\n",
    "                n_decays += i*1e9\n",
    "            if \"_%dG_\"%(10*i) in file:\n",
    "                n_decays += i*10e9\n",
    "        print(\"opened %d/%d, with %d new decays\" % (ifile+1, len(files), n_decays-n_decays_0))\n",
    "\n",
    "        if ifile==0:\n",
    "            #preds = pd.read_csv(filepath+file)\n",
    "            preds = dd.read_csv(filepath+file)\n",
    "\n",
    "        else:\n",
    "            #preds = pd.concat((preds, pd.read_csv(filepath+file)))\n",
    "            preds0 = dd.read_csv(filepath+file)\n",
    "            preds = dd.multi.concat([preds, preds0])\n",
    "\n",
    "    return preds, n_decays\n",
    "    \n",
    "preds_sig, n_decays_sig = histsum(files_sig)\n",
    "preds_2pi, n_decays_2pi = histsum(files_2pi)\n",
    "preds_lam, n_decays_lam = histsum(files_lam)\n",
    "\n",
    "# working with this dataframe from now on\n",
    "preds_tot = preds_sig.assign(cls=1)\n",
    "preds_tot = dd.multi.concat([preds_tot, preds_2pi.assign(cls=0)])\n",
    "preds_tot = dd.multi.concat([preds_tot, preds_lam.assign(cls=5)])\n",
    "n_decays_tot = {\n",
    "    1 : n_decays_sig,\n",
    "    0 : n_decays_2pi,\n",
    "    5 : n_decays_lam,\n",
    "}"
   ]
  },
  {
   "cell_type": "code",
   "execution_count": null,
   "id": "3d34a151",
   "metadata": {
    "jupyter": {
     "source_hidden": true
    }
   },
   "outputs": [],
   "source": [
    "preds_tot.describe()"
   ]
  },
  {
   "cell_type": "code",
   "execution_count": null,
   "id": "c0a94407",
   "metadata": {
    "jupyter": {
     "source_hidden": true
    }
   },
   "outputs": [],
   "source": [
    "n_decays_tot"
   ]
  },
  {
   "cell_type": "code",
   "execution_count": null,
   "id": "a06a15ed",
   "metadata": {
    "jupyter": {
     "source_hidden": true
    }
   },
   "outputs": [],
   "source": [
    "# all general settings here\n",
    "\n",
    "bnorm = False\n",
    "\n",
    "clslabels = {\n",
    "    1 : \"k-pinunu\",\n",
    "    0 : \"k-2pi\",\n",
    "    5 : \"lambda-pin\",\n",
    "}\n",
    "\n",
    "clscolors = {\n",
    "    1 : \"Blues\",\n",
    "    0 : \"Oranges\",\n",
    "    5 : \"Greens\",\n",
    "}\n",
    "\n",
    "normfact = {\n",
    "    1 : 15483/n_decays_tot[1], #37800/n_decays_tot[1], #15483/n_decays_tot[1],\n",
    "    0 : 446e9/n_decays_tot[0], #1089e9/n_decays_tot[0], #446e9/n_decays_tot[0],\n",
    "    5 : 8.22e13/n_decays_tot[5], #20e13/n_decays_tot[5], #8.22e13/n_decays_tot[5],\n",
    "}\n",
    "\n",
    "sig_sel = (0.503, 0.50715743073963)"
   ]
  },
  {
   "cell_type": "code",
   "execution_count": null,
   "id": "a68c8b68",
   "metadata": {
    "jupyter": {
     "source_hidden": true
    }
   },
   "outputs": [],
   "source": [
    "# add classifier predictions to main dataframe (pred0/1_bool)\n",
    "preds_tot = preds_tot.assign(pred0_bool=(preds_tot[\"pred0\"]>sig_sel[0]))\n",
    "preds_tot = preds_tot.assign(pred1_bool=(preds_tot[\"pred1\"]>sig_sel[1]))"
   ]
  },
  {
   "cell_type": "code",
   "execution_count": null,
   "id": "e5f40588",
   "metadata": {
    "jupyter": {
     "source_hidden": true
    }
   },
   "outputs": [],
   "source": [
    "# add squared weights to main dataframe (Wsq)\n",
    "preds_tot = preds_tot.assign(Wsq=(preds_tot[\"W\"]*preds_tot[\"W\"]))"
   ]
  },
  {
   "cell_type": "markdown",
   "id": "ab0c6148",
   "metadata": {},
   "source": [
    "---"
   ]
  },
  {
   "cell_type": "code",
   "execution_count": null,
   "id": "2964e28e",
   "metadata": {
    "jupyter": {
     "source_hidden": true
    }
   },
   "outputs": [],
   "source": [
    "# settings of all other kinematical phase spaces\n",
    "bins_ptth = (100, 200)\n",
    "edges_ptth = ((0, 0.4), (0, 0.01)) \n",
    "box_edges_ptth = (0.14, 10, -1000, 1000)\n",
    "\n",
    "bins_ept = (200, 100)\n",
    "edges_ept = ((0, 200), (0, 0.4)) \n",
    "box_edges_ept = (-1000, 1000, 0.14, 10)\n",
    "\n",
    "bins_rminpt = (200, 100)\n",
    "edges_rminpt = ((0, 1.2), (0, 0.4)) \n",
    "box_edges_rminpt = (-1000, 1000, 0.14, 10)"
   ]
  },
  {
   "cell_type": "code",
   "execution_count": null,
   "id": "544cdf7b",
   "metadata": {
    "jupyter": {
     "source_hidden": true
    }
   },
   "outputs": [],
   "source": [
    "time0 = time.time()  # pt-th hist."
   ]
  },
  {
   "cell_type": "code",
   "execution_count": null,
   "id": "cbda0b01",
   "metadata": {
    "jupyter": {
     "source_hidden": true
    }
   },
   "outputs": [],
   "source": [
    "# pt-th hist.\n",
    "# no real-life statistics weight here\n",
    "\n",
    "hists_ptth = {}\n",
    "\n",
    "# true label: signal\n",
    "preds = preds_tot[preds_tot[\"cls\"]==1]\n",
    "hists_ptth.update({1 : {}})\n",
    "boolsig = (preds[\"pred0_bool\"]) & (preds[\"pred1_bool\"])\n",
    "\n",
    "# --> pred. label: signal\n",
    "hist = dask_histogram.histogram2d(\n",
    "    x=preds[boolsig][\"Vertex_pRecPi_T\"], y=preds[boolsig][\"Vertex_RecPi_sTh\"], weights=preds[boolsig][\"W\"],\n",
    "    bins=(np.linspace(edges_ptth[0][0], edges_ptth[0][1], bins_ptth[0]), np.linspace(edges_ptth[1][0], edges_ptth[1][1], bins_ptth[1])),\n",
    ")\n",
    "hists_ptth[1].update({1 : np.array([x.compute() for x in hist])})\n",
    "\n",
    "# --> pred. label: background (any)\n",
    "hist = dask_histogram.histogram2d(\n",
    "    x=preds[~boolsig][\"Vertex_pRecPi_T\"], y=preds[~boolsig][\"Vertex_RecPi_sTh\"], weights=preds[~boolsig][\"W\"],\n",
    "    bins=(np.linspace(edges_ptth[0][0], edges_ptth[0][1], bins_ptth[0]), np.linspace(edges_ptth[1][0], edges_ptth[1][1], bins_ptth[1])),\n",
    ")\n",
    "hists_ptth[1].update({0 : np.array([x.compute() for x in hist])})\n",
    "\n",
    "# true label: background (2pi - label 990)\n",
    "preds = preds_tot[preds_tot[\"cls\"]==0]\n",
    "hists_ptth.update({990 : {}})\n",
    "boolsig = (preds[\"pred0_bool\"]) & (preds[\"pred1_bool\"])  \n",
    "\n",
    "# --> pred. label: signal\n",
    "hist = dask_histogram.histogram2d(\n",
    "    x=preds[boolsig][\"Vertex_pRecPi_T\"], y=preds[boolsig][\"Vertex_RecPi_sTh\"], weights=preds[boolsig][\"W\"],\n",
    "    bins=(np.linspace(edges_ptth[0][0], edges_ptth[0][1], bins_ptth[0]), np.linspace(edges_ptth[1][0], edges_ptth[1][1], bins_ptth[1])),\n",
    ")\n",
    "hists_ptth[990].update({1 : np.array([x.compute() for x in hist])})\n",
    "\n",
    "# --> pred. label: background (any)\n",
    "hist = dask_histogram.histogram2d(\n",
    "    x=preds[~boolsig][\"Vertex_pRecPi_T\"], y=preds[~boolsig][\"Vertex_RecPi_sTh\"], weights=preds[~boolsig][\"W\"],\n",
    "    bins=(np.linspace(edges_ptth[0][0], edges_ptth[0][1], bins_ptth[0]), np.linspace(edges_ptth[1][0], edges_ptth[1][1], bins_ptth[1])),\n",
    ")\n",
    "hists_ptth[990].update({0 : np.array([x.compute() for x in hist])})\n",
    "\n",
    "# true label: background (lambda - label 995)\n",
    "preds = preds_tot[preds_tot[\"cls\"]==5]\n",
    "hists_ptth.update({995 : {}})\n",
    "boolsig = (preds[\"pred0_bool\"]) & (preds[\"pred1_bool\"])  \n",
    "\n",
    "# --> pred. label: signal\n",
    "hist = dask_histogram.histogram2d(\n",
    "    x=preds[boolsig][\"Vertex_pRecPi_T\"], y=preds[boolsig][\"Vertex_RecPi_sTh\"], weights=preds[boolsig][\"W\"],\n",
    "    bins=(np.linspace(edges_ptth[0][0], edges_ptth[0][1], bins_ptth[0]), np.linspace(edges_ptth[1][0], edges_ptth[1][1], bins_ptth[1])),\n",
    ")\n",
    "hists_ptth[995].update({1 : np.array([x.compute() for x in hist])})\n",
    "\n",
    "# --> pred. label: background (any)\n",
    "hist = dask_histogram.histogram2d(\n",
    "    x=preds[~boolsig][\"Vertex_pRecPi_T\"], y=preds[~boolsig][\"Vertex_RecPi_sTh\"], weights=preds[~boolsig][\"W\"],\n",
    "    bins=(np.linspace(edges_ptth[0][0], edges_ptth[0][1], bins_ptth[0]), np.linspace(edges_ptth[1][0], edges_ptth[1][1], bins_ptth[1])),\n",
    ")\n",
    "hists_ptth[995].update({0 : np.array([x.compute() for x in hist])})"
   ]
  },
  {
   "cell_type": "code",
   "execution_count": null,
   "id": "58ce8e81",
   "metadata": {
    "jupyter": {
     "source_hidden": true
    }
   },
   "outputs": [],
   "source": [
    "# e-pt hist.\n",
    "# no real-life statistics weight here\n",
    "\n",
    "hists_ept = {}\n",
    "\n",
    "# true label: signal\n",
    "preds = preds_tot[preds_tot[\"cls\"]==1]\n",
    "hists_ept.update({1 : {}})\n",
    "boolsig = (preds[\"pred0_bool\"]) & (preds[\"pred1_bool\"])\n",
    "\n",
    "# --> pred. label: signal\n",
    "hist = dask_histogram.histogram2d(\n",
    "    x=preds[boolsig][\"Vertex_ERecPi\"], y=preds[boolsig][\"Vertex_pRecPi_T\"], weights=preds[boolsig][\"W\"],\n",
    "    bins=(np.linspace(edges_ept[0][0], edges_ept[0][1], bins_ept[0]), np.linspace(edges_ept[1][0], edges_ept[1][1], bins_ept[1])),\n",
    ")\n",
    "hists_ept[1].update({1 : np.array([x.compute() for x in hist])})\n",
    "\n",
    "# --> pred. label: background (any)\n",
    "hist = dask_histogram.histogram2d(\n",
    "    x=preds[~boolsig][\"Vertex_ERecPi\"], y=preds[~boolsig][\"Vertex_pRecPi_T\"], weights=preds[~boolsig][\"W\"],\n",
    "    bins=(np.linspace(edges_ept[0][0], edges_ept[0][1], bins_ept[0]), np.linspace(edges_ept[1][0], edges_ept[1][1], bins_ept[1])),\n",
    ")\n",
    "hists_ept[1].update({0 : np.array([x.compute() for x in hist])})\n",
    "\n",
    "# true label: background (2pi - label 990)\n",
    "preds = preds_tot[preds_tot[\"cls\"]==0]\n",
    "hists_ept.update({990 : {}})\n",
    "boolsig = (preds[\"pred0_bool\"]) & (preds[\"pred1_bool\"])  \n",
    "\n",
    "# --> pred. label: signal\n",
    "hist = dask_histogram.histogram2d(\n",
    "    x=preds[boolsig][\"Vertex_ERecPi\"], y=preds[boolsig][\"Vertex_pRecPi_T\"], weights=preds[boolsig][\"W\"],\n",
    "    bins=(np.linspace(edges_ept[0][0], edges_ept[0][1], bins_ept[0]), np.linspace(edges_ept[1][0], edges_ept[1][1], bins_ept[1])),\n",
    ")\n",
    "hists_ept[990].update({1 : np.array([x.compute() for x in hist])})\n",
    "\n",
    "# --> pred. label: background (any)\n",
    "hist = dask_histogram.histogram2d(\n",
    "    x=preds[~boolsig][\"Vertex_ERecPi\"], y=preds[~boolsig][\"Vertex_pRecPi_T\"], weights=preds[~boolsig][\"W\"],\n",
    "    bins=(np.linspace(edges_ept[0][0], edges_ept[0][1], bins_ept[0]), np.linspace(edges_ept[1][0], edges_ept[1][1], bins_ept[1])),\n",
    ")\n",
    "hists_ept[990].update({0 : np.array([x.compute() for x in hist])})\n",
    "\n",
    "# true label: background (lambda - label 995)\n",
    "preds = preds_tot[preds_tot[\"cls\"]==5]\n",
    "hists_ept.update({995 : {}})\n",
    "boolsig = (preds[\"pred0_bool\"]) & (preds[\"pred1_bool\"])  \n",
    "\n",
    "# --> pred. label: signal\n",
    "hist = dask_histogram.histogram2d(\n",
    "    x=preds[boolsig][\"Vertex_ERecPi\"], y=preds[boolsig][\"Vertex_pRecPi_T\"], weights=preds[boolsig][\"W\"],\n",
    "    bins=(np.linspace(edges_ept[0][0], edges_ept[0][1], bins_ept[0]), np.linspace(edges_ept[1][0], edges_ept[1][1], bins_ept[1])),\n",
    ")\n",
    "hists_ept[995].update({1 : np.array([x.compute() for x in hist])})\n",
    "\n",
    "# --> pred. label: background (any)\n",
    "hist = dask_histogram.histogram2d(\n",
    "    x=preds[~boolsig][\"Vertex_ERecPi\"], y=preds[~boolsig][\"Vertex_pRecPi_T\"], weights=preds[~boolsig][\"W\"],\n",
    "    bins=(np.linspace(edges_ept[0][0], edges_ept[0][1], bins_ept[0]), np.linspace(edges_ept[1][0], edges_ept[1][1], bins_ept[1])),\n",
    ")\n",
    "hists_ept[995].update({0 : np.array([x.compute() for x in hist])})"
   ]
  },
  {
   "cell_type": "code",
   "execution_count": null,
   "id": "36670219",
   "metadata": {
    "jupyter": {
     "source_hidden": true
    }
   },
   "outputs": [],
   "source": [
    "# rmin-pt hist.\n",
    "# no real-life statistics weight here\n",
    "\n",
    "hists_rminpt = {}\n",
    "\n",
    "# true label: signal\n",
    "preds = preds_tot[preds_tot[\"cls\"]==1]\n",
    "hists_rminpt.update({1 : {}})\n",
    "boolsig = (preds[\"pred0_bool\"]) & (preds[\"pred1_bool\"])\n",
    "\n",
    "# --> pred. label: signal\n",
    "hist = dask_histogram.histogram2d(\n",
    "    x=preds[boolsig][\"Clusters_xRec_TMin\"], y=preds[boolsig][\"Vertex_pRecPi_T\"], weights=preds[boolsig][\"W\"],\n",
    "    bins=(np.linspace(edges_rminpt[0][0], edges_rminpt[0][1], bins_rminpt[0]), np.linspace(edges_rminpt[1][0], edges_rminpt[1][1], bins_rminpt[1])),\n",
    ")\n",
    "hists_rminpt[1].update({1 : np.array([x.compute() for x in hist])})\n",
    "\n",
    "# --> pred. label: background (any)\n",
    "hist = dask_histogram.histogram2d(\n",
    "    x=preds[~boolsig][\"Clusters_xRec_TMin\"], y=preds[~boolsig][\"Vertex_pRecPi_T\"], weights=preds[~boolsig][\"W\"],\n",
    "    bins=(np.linspace(edges_rminpt[0][0], edges_rminpt[0][1], bins_rminpt[0]), np.linspace(edges_rminpt[1][0], edges_rminpt[1][1], bins_rminpt[1])),\n",
    ")\n",
    "hists_rminpt[1].update({0 : np.array([x.compute() for x in hist])})\n",
    "\n",
    "# true label: background (2pi - label 990)\n",
    "preds = preds_tot[preds_tot[\"cls\"]==0]\n",
    "hists_rminpt.update({990 : {}})\n",
    "boolsig = (preds[\"pred0_bool\"]) & (preds[\"pred1_bool\"])  \n",
    "\n",
    "# --> pred. label: signal\n",
    "hist = dask_histogram.histogram2d(\n",
    "    x=preds[boolsig][\"Clusters_xRec_TMin\"], y=preds[boolsig][\"Vertex_pRecPi_T\"], weights=preds[boolsig][\"W\"],\n",
    "    bins=(np.linspace(edges_rminpt[0][0], edges_rminpt[0][1], bins_rminpt[0]), np.linspace(edges_rminpt[1][0], edges_rminpt[1][1], bins_rminpt[1])),\n",
    ")\n",
    "hists_rminpt[990].update({1 : np.array([x.compute() for x in hist])})\n",
    "\n",
    "# --> pred. label: background (any)\n",
    "hist = dask_histogram.histogram2d(\n",
    "    x=preds[~boolsig][\"Clusters_xRec_TMin\"], y=preds[~boolsig][\"Vertex_pRecPi_T\"], weights=preds[~boolsig][\"W\"],\n",
    "    bins=(np.linspace(edges_rminpt[0][0], edges_rminpt[0][1], bins_rminpt[0]), np.linspace(edges_rminpt[1][0], edges_rminpt[1][1], bins_rminpt[1])),\n",
    ")\n",
    "hists_rminpt[990].update({0 : np.array([x.compute() for x in hist])})\n",
    "\n",
    "# true label: background (lambda - label 995)\n",
    "preds = preds_tot[preds_tot[\"cls\"]==5]\n",
    "hists_rminpt.update({995 : {}})\n",
    "boolsig = (preds[\"pred0_bool\"]) & (preds[\"pred1_bool\"])  \n",
    "\n",
    "# --> pred. label: signal\n",
    "hist = dask_histogram.histogram2d(\n",
    "    x=preds[boolsig][\"Clusters_xRec_TMin\"], y=preds[boolsig][\"Vertex_pRecPi_T\"], weights=preds[boolsig][\"W\"],\n",
    "    bins=(np.linspace(edges_rminpt[0][0], edges_rminpt[0][1], bins_rminpt[0]), np.linspace(edges_rminpt[1][0], edges_rminpt[1][1], bins_rminpt[1])),\n",
    ")\n",
    "hists_rminpt[995].update({1 : np.array([x.compute() for x in hist])})\n",
    "\n",
    "# --> pred. label: background (any)\n",
    "hist = dask_histogram.histogram2d(\n",
    "    x=preds[~boolsig][\"Clusters_xRec_TMin\"], y=preds[~boolsig][\"Vertex_pRecPi_T\"], weights=preds[~boolsig][\"W\"],\n",
    "    bins=(np.linspace(edges_rminpt[0][0], edges_rminpt[0][1], bins_rminpt[0]), np.linspace(edges_rminpt[1][0], edges_rminpt[1][1], bins_rminpt[1])),\n",
    ")\n",
    "hists_rminpt[995].update({0 : np.array([x.compute() for x in hist])})"
   ]
  },
  {
   "cell_type": "code",
   "execution_count": null,
   "id": "7099e0a4",
   "metadata": {
    "jupyter": {
     "source_hidden": true
    }
   },
   "outputs": [],
   "source": [
    "time1 = time.time()  # pt-th hist.\n",
    "print(\"execution time: %f\" % (time1-time0))"
   ]
  },
  {
   "cell_type": "code",
   "execution_count": null,
   "id": "93f65ca2",
   "metadata": {
    "jupyter": {
     "source_hidden": true
    }
   },
   "outputs": [],
   "source": [
    "# all other kinematical phase spaces again\n",
    "# real-life statistics weight is applied here, and stays below\n",
    "\n",
    "# true label: background (any - label 0)\n",
    "hists_ptth[0] = {\n",
    "    1 : [\n",
    "        hists_ptth[990][1][0]*normfact[0] + hists_ptth[995][1][0]*normfact[5],\n",
    "        hists_ptth[990][1][1],\n",
    "        hists_ptth[990][1][2]\n",
    "    ],\n",
    "    0 : [\n",
    "        hists_ptth[990][0][0]*normfact[0] + hists_ptth[995][0][0]*normfact[5],\n",
    "        hists_ptth[990][0][1],\n",
    "        hists_ptth[990][0][2]\n",
    "    ],\n",
    "}\n",
    "\n",
    "hists_ept[0] = {\n",
    "    1 : [\n",
    "        hists_ept[990][1][0]*normfact[0] + hists_ept[995][1][0]*normfact[5],\n",
    "        hists_ept[990][1][1],\n",
    "        hists_ept[990][1][2]\n",
    "    ],\n",
    "    0 : [\n",
    "        hists_ept[990][0][0]*normfact[0] + hists_ept[995][0][0]*normfact[5],\n",
    "        hists_ept[990][0][1],\n",
    "        hists_ept[990][0][2]\n",
    "    ],\n",
    "}\n",
    "\n",
    "hists_rminpt[0] = {\n",
    "    1 : [\n",
    "        hists_rminpt[990][1][0]*normfact[0] + hists_rminpt[995][1][0]*normfact[5],\n",
    "        hists_rminpt[990][1][1],\n",
    "        hists_rminpt[990][1][2]\n",
    "    ],\n",
    "    0 : [\n",
    "        hists_rminpt[990][0][0]*normfact[0] + hists_rminpt[995][0][0]*normfact[5],\n",
    "        hists_rminpt[990][0][1],\n",
    "        hists_rminpt[990][0][2]\n",
    "    ],\n",
    "}\n",
    "\n",
    "# also, rescale true signal\n",
    "hists_ptth[1][1][0] *= normfact[1]\n",
    "hists_ptth[1][0][0] *= normfact[1]\n",
    "\n",
    "hists_ept[1][1][0] *= normfact[1]\n",
    "hists_ept[1][0][0] *= normfact[1]\n",
    "\n",
    "hists_rminpt[1][1][0] *= normfact[1]\n",
    "hists_rminpt[1][0][0] *= normfact[1]"
   ]
  },
  {
   "cell_type": "code",
   "execution_count": null,
   "id": "fce0d6ab",
   "metadata": {
    "jupyter": {
     "source_hidden": true
    }
   },
   "outputs": [],
   "source": [
    "# another expression of the plot edges (obtained from the histograms)\n",
    "extent_ptth = [\n",
    "    min(hists_ptth[1][1][1]), max(hists_ptth[1][1][1]), min(hists_ptth[1][1][2]), max(hists_ptth[1][1][2])\n",
    "]\n",
    "\n",
    "extent_ept = [\n",
    "    min(hists_ept[1][1][1]), max(hists_ept[1][1][1]), min(hists_ept[1][1][2]), max(hists_ept[1][1][2])\n",
    "]\n",
    "\n",
    "extent_rminpt = [\n",
    "    min(hists_rminpt[1][1][1]), max(hists_rminpt[1][1][1]), min(hists_rminpt[1][1][2]), max(hists_rminpt[1][1][2])\n",
    "]\n",
    "\n",
    "# fiducial volume box to be superimposed on the plots\n",
    "box_ptth = patches.Rectangle(\n",
    "    (box_edges_ptth[0], box_edges_ptth[2]), box_edges_ptth[1]-box_edges_ptth[0], box_edges_ptth[3]-box_edges_ptth[2],\n",
    "    linewidth=1, edgecolor='0.5', facecolor='none', label=\"LoI fiducial box\"\n",
    ")\n",
    "\n",
    "box_ept = patches.Rectangle(\n",
    "    (box_edges_ept[0], box_edges_ept[2]), box_edges_ept[1]-box_edges_ept[0], box_edges_ept[3]-box_edges_ept[2],\n",
    "    linewidth=1, edgecolor='0.5', facecolor='none', label=\"LoI fiducial box\"\n",
    ")\n",
    "\n",
    "box_rminpt = patches.Rectangle(\n",
    "    (box_edges_rminpt[0], box_edges_rminpt[2]), box_edges_rminpt[1]-box_edges_rminpt[0], box_edges_rminpt[3]-box_edges_rminpt[2],\n",
    "    linewidth=1, edgecolor='0.5', facecolor='none', label=\"LoI fiducial box\"\n",
    ")"
   ]
  },
  {
   "cell_type": "code",
   "execution_count": null,
   "id": "44b706b2",
   "metadata": {
    "jupyter": {
     "source_hidden": true
    }
   },
   "outputs": [],
   "source": [
    "classnames = {\n",
    "    995 : \"lambda-pin\",\n",
    "    990 : \"k-2pi\",\n",
    "    1 : \"k-pinunu\",\n",
    "    0 : \"background\",\n",
    "}\n",
    "\n",
    "cmap = plt.get_cmap(\"jet\").copy()\n",
    "cmap.set_bad('white')"
   ]
  },
  {
   "cell_type": "code",
   "execution_count": null,
   "id": "83d1e715",
   "metadata": {
    "jupyter": {
     "source_hidden": true
    }
   },
   "outputs": [],
   "source": [
    "# pt-th plots - one per true label\n",
    "# real-life statistics weight is applied here, after rewriting hists_ptth\n",
    "\n",
    "fig, axs = plt.subplots(ncols=2, figsize=(10, 5))\n",
    "blog = True\n",
    "\n",
    "ax = axs[0]\n",
    "ax.set_title(\"true background\")\n",
    "ax.set_xlim((extent_ptth[0], extent_ptth[1]))\n",
    "ax.set_ylim((extent_ptth[2], extent_ptth[3]))\n",
    "ax.add_patch(copy(box_ptth))\n",
    "\n",
    "data = hists_ptth[0][0][0].T\n",
    "hist = np.ma.masked_where(data == 0, data) / (np.sum(data) if bnorm else 1)\n",
    "ax.matshow(hist, origin=\"lower\", extent=extent_ptth, aspect=\"auto\", norm=LogNorm() if blog else None, cmap=\"Reds\")\n",
    "ax.plot((-1, -1), color=\"r\", lw=0, marker=\"o\", label=\"pred. as background\")\n",
    "\n",
    "data = hists_ptth[0][1][0].T\n",
    "hist = np.ma.masked_where(data == 0, data) / (np.sum(data) if bnorm else 1)\n",
    "ax.matshow(hist, origin=\"lower\", extent=extent_ptth, aspect=\"auto\", norm=LogNorm() if blog else None, cmap=\"Blues\", alpha=0.6 if blog else 0.9)\n",
    "ax.plot((-1, -1), color=\"b\", lw=0, marker=\"o\", label=\"pred. as signal\")\n",
    "\n",
    "ax = axs[1]\n",
    "ax.set_title(\"true signal\")\n",
    "ax.set_xlim((extent_ptth[0], extent_ptth[1]))\n",
    "ax.set_ylim((extent_ptth[2], extent_ptth[3]))\n",
    "ax.add_patch(copy(box_ptth))\n",
    "\n",
    "data = hists_ptth[1][0][0].T\n",
    "hist = np.ma.masked_where(data == 0, data) / (np.sum(data) if bnorm else 1)\n",
    "ax.matshow(hist, origin=\"lower\", extent=extent_ptth, aspect=\"auto\", norm=LogNorm() if blog else None, cmap=\"Reds\")\n",
    "\n",
    "data = hists_ptth[1][1][0].T\n",
    "hist = np.ma.masked_where(data == 0, data) / (np.sum(data) if bnorm else 1)\n",
    "ax.matshow(hist, origin=\"lower\", extent=extent_ptth, aspect=\"auto\", norm=LogNorm() if blog else None, cmap=\"Blues\", alpha=0.6 if blog else 0.9)\n",
    "\n",
    "axs[0].legend(loc=\"upper left\")\n",
    "fig.tight_layout()"
   ]
  },
  {
   "cell_type": "code",
   "execution_count": null,
   "id": "22534b48",
   "metadata": {
    "jupyter": {
     "source_hidden": true
    }
   },
   "outputs": [],
   "source": [
    "# pt-th plots - one per predicted label\n",
    "# real-life statistics weight is applied here, after rewriting hists_ptth\n",
    "\n",
    "fig, axs = plt.subplots(ncols=2, figsize=(10, 5))\n",
    "blog = True\n",
    "\n",
    "pred_class = 0\n",
    "ax = axs[pred_class]\n",
    "ax.set_title(\"predicted as background\")\n",
    "ax.set_xlim((extent_ptth[0], extent_ptth[1]))\n",
    "ax.set_ylim((extent_ptth[2], extent_ptth[3]))\n",
    "ax.add_patch(copy(box_ptth))\n",
    "\n",
    "data = hists_ptth[0][0][0].T\n",
    "hist = np.ma.masked_where(data == 0, data) / (np.sum(data) if bnorm else 1)\n",
    "ax.matshow(hist, origin=\"lower\", extent=extent_ptth, aspect=\"auto\", norm=LogNorm() if blog else None, cmap=\"Reds\")\n",
    "ax.plot((-1, -1), color=\"r\", lw=0, marker=\"o\", label=\"true background\")\n",
    "\n",
    "data = hists_ptth[1][0][0].T\n",
    "hist = np.ma.masked_where(data == 0, data) / (np.sum(data) if bnorm else 1)\n",
    "ax.matshow(hist, origin=\"lower\", extent=extent_ptth, aspect=\"auto\", norm=LogNorm() if blog else None, cmap=\"Blues\", alpha=0.6 if blog else 0.9)\n",
    "ax.plot((-1, -1), color=\"b\", lw=0, marker=\"o\", label=\"true signal\")\n",
    "\n",
    "pred_class = 1\n",
    "ax = axs[pred_class]\n",
    "ax.set_title(\"predicted as signal\")\n",
    "ax.set_xlim((extent_ptth[0], extent_ptth[1]))\n",
    "ax.set_ylim((extent_ptth[2], extent_ptth[3]))\n",
    "ax.add_patch(copy(box_ptth))\n",
    "\n",
    "data = hists_ptth[0][1][0].T\n",
    "hist = np.ma.masked_where(data == 0, data) / (np.sum(data) if bnorm else 1)\n",
    "ax.matshow(hist, origin=\"lower\", extent=extent_ptth, aspect=\"auto\", norm=LogNorm() if blog else None, cmap=\"Reds\")\n",
    "\n",
    "data = hists_ptth[1][1][0].T\n",
    "hist = np.ma.masked_where(data == 0, data) / (np.sum(data) if bnorm else 1)\n",
    "ax.matshow(hist, origin=\"lower\", extent=extent_ptth, aspect=\"auto\", norm=LogNorm() if blog else None, cmap=\"Blues\", alpha=0.6 if blog else 0.9)\n",
    "\n",
    "axs[0].legend(loc=\"upper left\")\n",
    "fig.tight_layout()"
   ]
  },
  {
   "cell_type": "code",
   "execution_count": null,
   "id": "961868ec",
   "metadata": {
    "jupyter": {
     "source_hidden": true
    }
   },
   "outputs": [],
   "source": [
    "# pt-th plots - individual classes separately, all true lables and only signal-selected\n",
    "# real-life statistics weight is applied here, after rewriting hists_ptth\n",
    "\n",
    "for iclass in (1, 990, 995):\n",
    "    \n",
    "    fig, axs = plt.subplots(ncols=2, figsize=(12, 4))\n",
    "    blog = False\n",
    "\n",
    "    ax = axs[0]\n",
    "    ax.set_title(\"all\")\n",
    "    ax.set_xlim((extent_ptth[0], extent_ptth[1]))\n",
    "    ax.set_ylim((extent_ptth[2], extent_ptth[3]))\n",
    "    ax.add_patch(copy(box_ptth))\n",
    "\n",
    "    data = hists_ptth[iclass][1][0].T + hists_ptth[iclass][0][0].T\n",
    "    hist = np.ma.masked_where(data == 0, data) / (np.sum(data) if bnorm else 1)\n",
    "    cax = ax.matshow(hist, origin=\"lower\", extent=extent_ptth, aspect=\"auto\", norm=LogNorm() if blog else None, cmap=cmap)\n",
    "    plt.subplot(121)\n",
    "    plt.colorbar(cax)\n",
    "\n",
    "    ax = axs[1]\n",
    "    ax.set_title(\"predicted as %s\" % classnames[1])\n",
    "    ax.set_xlim((extent_ptth[0], extent_ptth[1]))\n",
    "    ax.set_ylim((extent_ptth[2], extent_ptth[3]))\n",
    "    ax.add_patch(copy(box_ptth))\n",
    "\n",
    "    data = hists_ptth[iclass][1][0].T\n",
    "    hist = np.ma.masked_where(data == 0, data) / (np.sum(data) if bnorm else 1)\n",
    "    cax = ax.matshow(hist, origin=\"lower\", extent=extent_ptth, aspect=\"auto\", norm=LogNorm() if blog else None, cmap=cmap)\n",
    "    plt.subplot(122)\n",
    "    plt.colorbar(cax)\n",
    "\n",
    "    fig.suptitle(classnames[iclass])\n",
    "    fig.tight_layout()"
   ]
  },
  {
   "cell_type": "code",
   "execution_count": null,
   "id": "a45feb00",
   "metadata": {
    "jupyter": {
     "source_hidden": true
    }
   },
   "outputs": [],
   "source": [
    "# e-pt plots - one per true label\n",
    "# real-life statistics weight is applied here, after rewriting hists_ept\n",
    "\n",
    "fig, axs = plt.subplots(ncols=2, figsize=(10, 5))\n",
    "blog = True\n",
    "\n",
    "ax = axs[0]\n",
    "ax.set_title(\"true background\")\n",
    "ax.set_xlim((extent_ept[0], extent_ept[1]))\n",
    "ax.set_ylim((extent_ept[2], extent_ept[3]))\n",
    "ax.add_patch(copy(box_ept))\n",
    "\n",
    "data = hists_ept[0][0][0].T\n",
    "hist = np.ma.masked_where(data == 0, data) / (np.sum(data) if bnorm else 1)\n",
    "ax.matshow(hist, origin=\"lower\", extent=extent_ept, aspect=\"auto\", norm=LogNorm() if blog else None, cmap=\"Reds\")\n",
    "ax.plot((-1, -1), color=\"r\", lw=0, marker=\"o\", label=\"pred. as background\")\n",
    "\n",
    "data = hists_ept[0][1][0].T\n",
    "hist = np.ma.masked_where(data == 0, data) / (np.sum(data) if bnorm else 1)\n",
    "ax.matshow(hist, origin=\"lower\", extent=extent_ept, aspect=\"auto\", norm=LogNorm() if blog else None, cmap=\"Blues\", alpha=0.6 if blog else 0.9)\n",
    "ax.plot((-1, -1), color=\"b\", lw=0, marker=\"o\", label=\"pred. as signal\")\n",
    "\n",
    "ax = axs[1]\n",
    "ax.set_title(\"true signal\")\n",
    "ax.set_xlim((extent_ept[0], extent_ept[1]))\n",
    "ax.set_ylim((extent_ept[2], extent_ept[3]))\n",
    "ax.add_patch(copy(box_ept))\n",
    "\n",
    "data = hists_ept[1][0][0].T\n",
    "hist = np.ma.masked_where(data == 0, data) / (np.sum(data) if bnorm else 1)\n",
    "ax.matshow(hist, origin=\"lower\", extent=extent_ept, aspect=\"auto\", norm=LogNorm() if blog else None, cmap=\"Reds\")\n",
    "\n",
    "data = hists_ept[1][1][0].T\n",
    "hist = np.ma.masked_where(data == 0, data) / (np.sum(data) if bnorm else 1)\n",
    "ax.matshow(hist, origin=\"lower\", extent=extent_ept, aspect=\"auto\", norm=LogNorm() if blog else None, cmap=\"Blues\", alpha=0.6 if blog else 0.9)\n",
    "\n",
    "axs[0].legend(loc=\"upper left\")\n",
    "fig.tight_layout()"
   ]
  },
  {
   "cell_type": "code",
   "execution_count": null,
   "id": "a32272a1",
   "metadata": {
    "jupyter": {
     "source_hidden": true
    }
   },
   "outputs": [],
   "source": [
    "# e-pt plots - one per predicted label\n",
    "# real-life statistics weight is applied here, after rewriting hists_ept\n",
    "\n",
    "fig, axs = plt.subplots(ncols=2, figsize=(10, 5))\n",
    "blog = True\n",
    "\n",
    "pred_class = 0\n",
    "ax = axs[pred_class]\n",
    "ax.set_title(\"predicted as background\")\n",
    "ax.set_xlim((extent_ept[0], extent_ept[1]))\n",
    "ax.set_ylim((extent_ept[2], extent_ept[3]))\n",
    "ax.add_patch(copy(box_ept))\n",
    "\n",
    "data = hists_ept[0][0][0].T\n",
    "hist = np.ma.masked_where(data == 0, data) / (np.sum(data) if bnorm else 1)\n",
    "ax.matshow(hist, origin=\"lower\", extent=extent_ept, aspect=\"auto\", norm=LogNorm() if blog else None, cmap=\"Reds\")\n",
    "ax.plot((-1, -1), color=\"r\", lw=0, marker=\"o\", label=\"true background\")\n",
    "\n",
    "data = hists_ept[1][0][0].T\n",
    "hist = np.ma.masked_where(data == 0, data) / (np.sum(data) if bnorm else 1)\n",
    "ax.matshow(hist, origin=\"lower\", extent=extent_ept, aspect=\"auto\", norm=LogNorm() if blog else None, cmap=\"Blues\", alpha=0.6 if blog else 0.9)\n",
    "ax.plot((-1, -1), color=\"b\", lw=0, marker=\"o\", label=\"true signal\")\n",
    "\n",
    "pred_class = 1\n",
    "ax = axs[pred_class]\n",
    "ax.set_title(\"predicted as signal\")\n",
    "ax.set_xlim((extent_ept[0], extent_ept[1]))\n",
    "ax.set_ylim((extent_ept[2], extent_ept[3]))\n",
    "ax.add_patch(copy(box_ept))\n",
    "\n",
    "data = hists_ept[0][1][0].T\n",
    "hist = np.ma.masked_where(data == 0, data) / (np.sum(data) if bnorm else 1)\n",
    "ax.matshow(hist, origin=\"lower\", extent=extent_ept, aspect=\"auto\", norm=LogNorm() if blog else None, cmap=\"Reds\")\n",
    "\n",
    "data = hists_ept[1][1][0].T\n",
    "hist = np.ma.masked_where(data == 0, data) / (np.sum(data) if bnorm else 1)\n",
    "ax.matshow(hist, origin=\"lower\", extent=extent_ept, aspect=\"auto\", norm=LogNorm() if blog else None, cmap=\"Blues\", alpha=0.6 if blog else 0.9)\n",
    "\n",
    "axs[0].legend(loc=\"upper left\")\n",
    "fig.tight_layout()"
   ]
  },
  {
   "cell_type": "code",
   "execution_count": null,
   "id": "49bee50c",
   "metadata": {
    "jupyter": {
     "source_hidden": true
    }
   },
   "outputs": [],
   "source": [
    "# e-pt plots - individual classes separately, all true lables and only signal-selected\n",
    "# real-life statistics weight is applied here, after rewriting hists_ept\n",
    "\n",
    "for iclass in (1, 990, 995):\n",
    "    \n",
    "    fig, axs = plt.subplots(ncols=2, figsize=(12, 4))\n",
    "    blog = False\n",
    "\n",
    "    ax = axs[0]\n",
    "    ax.set_title(\"all\")\n",
    "    ax.set_xlim((extent_ept[0], extent_ept[1]))\n",
    "    ax.set_ylim((extent_ept[2], extent_ept[3]))\n",
    "    ax.add_patch(copy(box_ept))\n",
    "\n",
    "    data = hists_ept[iclass][1][0].T + hists_ept[iclass][0][0].T\n",
    "    hist = np.ma.masked_where(data == 0, data) / (np.sum(data) if bnorm else 1)\n",
    "    cax = ax.matshow(hist, origin=\"lower\", extent=extent_ept, aspect=\"auto\", norm=LogNorm() if blog else None, cmap=cmap)\n",
    "    plt.subplot(121)\n",
    "    plt.colorbar(cax)\n",
    "\n",
    "    ax = axs[1]\n",
    "    ax.set_title(\"predicted as %s\" % classnames[1])\n",
    "    ax.set_xlim((extent_ept[0], extent_ept[1]))\n",
    "    ax.set_ylim((extent_ept[2], extent_ept[3]))\n",
    "    ax.add_patch(copy(box_ept))\n",
    "\n",
    "    data = hists_ept[iclass][1][0].T\n",
    "    hist = np.ma.masked_where(data == 0, data) / (np.sum(data) if bnorm else 1)\n",
    "    cax = ax.matshow(hist, origin=\"lower\", extent=extent_ept, aspect=\"auto\", norm=LogNorm() if blog else None, cmap=cmap)\n",
    "    plt.subplot(122)\n",
    "    plt.colorbar(cax)\n",
    "\n",
    "    fig.suptitle(classnames[iclass])\n",
    "    fig.tight_layout()"
   ]
  },
  {
   "cell_type": "code",
   "execution_count": null,
   "id": "440ef345",
   "metadata": {
    "jupyter": {
     "source_hidden": true
    }
   },
   "outputs": [],
   "source": [
    "# rmin-pt plots - one per true label\n",
    "# real-life statistics weight is applied here, after rewriting hists_rminpt\n",
    "\n",
    "fig, axs = plt.subplots(ncols=2, figsize=(10, 5))\n",
    "blog = True\n",
    "\n",
    "ax = axs[0]\n",
    "ax.set_title(\"true background\")\n",
    "ax.set_xlim((extent_rminpt[0], extent_rminpt[1]))\n",
    "ax.set_ylim((extent_rminpt[2], extent_rminpt[3]))\n",
    "ax.add_patch(copy(box_rminpt))\n",
    "\n",
    "data = hists_rminpt[0][0][0].T\n",
    "hist = np.ma.masked_where(data == 0, data) / (np.sum(data) if bnorm else 1)\n",
    "ax.matshow(hist, origin=\"lower\", extent=extent_rminpt, aspect=\"auto\", norm=LogNorm() if blog else None, cmap=\"Reds\")\n",
    "ax.plot((-1, -1), color=\"r\", lw=0, marker=\"o\", label=\"pred. as background\")\n",
    "\n",
    "data = hists_rminpt[0][1][0].T\n",
    "hist = np.ma.masked_where(data == 0, data) / (np.sum(data) if bnorm else 1)\n",
    "ax.matshow(hist, origin=\"lower\", extent=extent_rminpt, aspect=\"auto\", norm=LogNorm() if blog else None, cmap=\"Blues\", alpha=0.6 if blog else 0.9)\n",
    "ax.plot((-1, -1), color=\"b\", lw=0, marker=\"o\", label=\"pred. as signal\")\n",
    "\n",
    "ax = axs[1]\n",
    "ax.set_title(\"true signal\")\n",
    "ax.set_xlim((extent_rminpt[0], extent_rminpt[1]))\n",
    "ax.set_ylim((extent_rminpt[2], extent_rminpt[3]))\n",
    "ax.add_patch(copy(box_rminpt))\n",
    "\n",
    "data = hists_rminpt[1][0][0].T\n",
    "hist = np.ma.masked_where(data == 0, data) / (np.sum(data) if bnorm else 1)\n",
    "ax.matshow(hist, origin=\"lower\", extent=extent_rminpt, aspect=\"auto\", norm=LogNorm() if blog else None, cmap=\"Reds\")\n",
    "\n",
    "data = hists_rminpt[1][1][0].T\n",
    "hist = np.ma.masked_where(data == 0, data) / (np.sum(data) if bnorm else 1)\n",
    "ax.matshow(hist, origin=\"lower\", extent=extent_rminpt, aspect=\"auto\", norm=LogNorm() if blog else None, cmap=\"Blues\", alpha=0.6 if blog else 0.9)\n",
    "\n",
    "axs[0].legend(loc=\"upper left\")\n",
    "fig.tight_layout()"
   ]
  },
  {
   "cell_type": "code",
   "execution_count": null,
   "id": "50cc2373",
   "metadata": {
    "jupyter": {
     "source_hidden": true
    }
   },
   "outputs": [],
   "source": [
    "# rmin-pt plots - one per predicted label\n",
    "# real-life statistics weight is applied here, after rewriting hists_rminpt\n",
    "\n",
    "fig, axs = plt.subplots(ncols=2, figsize=(10, 5))\n",
    "blog = True\n",
    "\n",
    "pred_class = 0\n",
    "ax = axs[pred_class]\n",
    "ax.set_title(\"predicted as background\")\n",
    "ax.set_xlim((extent_rminpt[0], extent_rminpt[1]))\n",
    "ax.set_ylim((extent_rminpt[2], extent_rminpt[3]))\n",
    "ax.add_patch(copy(box_rminpt))\n",
    "\n",
    "data = hists_rminpt[0][0][0].T\n",
    "hist = np.ma.masked_where(data == 0, data) / (np.sum(data) if bnorm else 1)\n",
    "ax.matshow(hist, origin=\"lower\", extent=extent_rminpt, aspect=\"auto\", norm=LogNorm() if blog else None, cmap=\"Reds\")\n",
    "ax.plot((-1, -1), color=\"r\", lw=0, marker=\"o\", label=\"true background\")\n",
    "\n",
    "data = hists_rminpt[1][0][0].T\n",
    "hist = np.ma.masked_where(data == 0, data) / (np.sum(data) if bnorm else 1)\n",
    "ax.matshow(hist, origin=\"lower\", extent=extent_rminpt, aspect=\"auto\", norm=LogNorm() if blog else None, cmap=\"Blues\", alpha=0.6 if blog else 0.9)\n",
    "ax.plot((-1, -1), color=\"b\", lw=0, marker=\"o\", label=\"true signal\")\n",
    "\n",
    "pred_class = 1\n",
    "ax = axs[pred_class]\n",
    "ax.set_title(\"predicted as signal\")\n",
    "ax.set_xlim((extent_rminpt[0], extent_rminpt[1]))\n",
    "ax.set_ylim((extent_rminpt[2], extent_rminpt[3]))\n",
    "ax.add_patch(copy(box_rminpt))\n",
    "\n",
    "data = hists_rminpt[0][1][0].T\n",
    "hist = np.ma.masked_where(data == 0, data) / (np.sum(data) if bnorm else 1)\n",
    "ax.matshow(hist, origin=\"lower\", extent=extent_rminpt, aspect=\"auto\", norm=LogNorm() if blog else None, cmap=\"Reds\")\n",
    "\n",
    "data = hists_rminpt[1][1][0].T\n",
    "hist = np.ma.masked_where(data == 0, data) / (np.sum(data) if bnorm else 1)\n",
    "ax.matshow(hist, origin=\"lower\", extent=extent_rminpt, aspect=\"auto\", norm=LogNorm() if blog else None, cmap=\"Blues\", alpha=0.6 if blog else 0.9)\n",
    "\n",
    "axs[0].legend(loc=\"upper left\")\n",
    "fig.tight_layout()"
   ]
  },
  {
   "cell_type": "code",
   "execution_count": null,
   "id": "357d751a",
   "metadata": {
    "jupyter": {
     "source_hidden": true
    }
   },
   "outputs": [],
   "source": [
    "# rmin-pt plots - individual classes separately, all true lables and only signal-selected\n",
    "# real-life statistics weight is applied here, after rewriting hists_rminpt\n",
    "\n",
    "for iclass in (1, 990, 995):\n",
    "    \n",
    "    fig, axs = plt.subplots(ncols=2, figsize=(12, 4))\n",
    "    blog = False\n",
    "\n",
    "    ax = axs[0]\n",
    "    ax.set_title(\"all\")\n",
    "    ax.set_xlim((extent_rminpt[0], extent_rminpt[1]))\n",
    "    ax.set_ylim((extent_rminpt[2], extent_rminpt[3]))\n",
    "    ax.add_patch(copy(box_rminpt))\n",
    "\n",
    "    data = hists_rminpt[iclass][1][0].T + hists_rminpt[iclass][0][0].T\n",
    "    hist = np.ma.masked_where(data == 0, data) / (np.sum(data) if bnorm else 1)\n",
    "    cax = ax.matshow(hist, origin=\"lower\", extent=extent_rminpt, aspect=\"auto\", norm=LogNorm() if blog else None, cmap=cmap)\n",
    "    plt.subplot(121)\n",
    "    plt.colorbar(cax)\n",
    "\n",
    "    ax = axs[1]\n",
    "    ax.set_title(\"predicted as %s\" % classnames[1])\n",
    "    ax.set_xlim((extent_rminpt[0], extent_rminpt[1]))\n",
    "    ax.set_ylim((extent_rminpt[2], extent_rminpt[3]))\n",
    "    ax.add_patch(copy(box_rminpt))\n",
    "\n",
    "    data = hists_rminpt[iclass][1][0].T\n",
    "    hist = np.ma.masked_where(data == 0, data) / (np.sum(data) if bnorm else 1)\n",
    "    cax = ax.matshow(hist, origin=\"lower\", extent=extent_rminpt, aspect=\"auto\", norm=LogNorm() if blog else None, cmap=cmap)\n",
    "    plt.subplot(122)\n",
    "    plt.colorbar(cax)\n",
    "\n",
    "    fig.suptitle(classnames[iclass])\n",
    "    fig.tight_layout()"
   ]
  }
 ],
 "metadata": {
  "@webio": {
   "lastCommId": null,
   "lastKernelId": null
  },
  "kernelspec": {
   "display_name": "Python 3",
   "language": "python",
   "name": "python3"
  },
  "language_info": {
   "codemirror_mode": {
    "name": "ipython",
    "version": 3
   },
   "file_extension": ".py",
   "mimetype": "text/x-python",
   "name": "python",
   "nbconvert_exporter": "python",
   "pygments_lexer": "ipython3",
   "version": "3.9.12"
  }
 },
 "nbformat": 4,
 "nbformat_minor": 5
}
