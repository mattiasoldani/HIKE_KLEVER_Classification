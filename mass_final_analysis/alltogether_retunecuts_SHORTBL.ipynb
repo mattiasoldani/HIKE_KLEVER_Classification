{
 "cells": [
  {
   "cell_type": "code",
   "execution_count": null,
   "id": "42cfa1d8",
   "metadata": {
    "jupyter": {
     "source_hidden": true
    }
   },
   "outputs": [],
   "source": [
    "import os\n",
    "import time\n",
    "import numpy as np\n",
    "\n",
    "from dask import dataframe as dd\n",
    "import dask_histogram\n",
    "\n",
    "import matplotlib.pyplot as plt\n",
    "import matplotlib.patches as patches\n",
    "from matplotlib.colors import LogNorm\n",
    "from copy import copy\n",
    "\n",
    "from iminuit import Minuit"
   ]
  },
  {
   "cell_type": "code",
   "execution_count": null,
   "id": "a2b109dd",
   "metadata": {
    "jupyter": {
     "source_hidden": true
    }
   },
   "outputs": [],
   "source": [
    "filepath = \"/DATA_MASTER_PATH/23_hike_pinunu-background/2309_zoptical-zanalyze_final_vars_SHORTBL/pred2_norm_conv1plus_withgencls_FINAL/\"\n",
    "\n",
    "def filesel(s):\n",
    "    sel = True\n",
    "    return sel\n",
    "\n",
    "files_2pi = [s for s in os.listdir(filepath) if ((os.path.isfile(os.path.join(filepath, s))) & filesel(s) & (\"2p0_mal\" in s))]\n",
    "files_sig = [s for s in os.listdir(filepath) if ((os.path.isfile(os.path.join(filepath, s))) & filesel(s) & (\"sig_mal\" in s))]\n",
    "files_lam = [s for s in os.listdir(filepath) if ((os.path.isfile(os.path.join(filepath, s))) & filesel(s) & (\"lambda\" in s))]"
   ]
  },
  {
   "cell_type": "code",
   "execution_count": null,
   "id": "4a5a67de",
   "metadata": {
    "jupyter": {
     "source_hidden": true
    }
   },
   "outputs": [],
   "source": [
    "def histsum(files):\n",
    "\n",
    "    n_decays = 0\n",
    "\n",
    "    for ifile, file, in enumerate(files):\n",
    "            \n",
    "        n_decays_0 = n_decays\n",
    "        for i in range(1, 10):\n",
    "            if \"_%dM_\"%(i) in file:\n",
    "                n_decays += i*1e6\n",
    "            if \"_%dM_\"%(10*i) in file:\n",
    "                n_decays += i*10e6\n",
    "            if \"_%dM_\"%(100*i) in file:\n",
    "                n_decays += i*100e6\n",
    "            if \"_%dG_\"%(i) in file:\n",
    "                n_decays += i*1e9\n",
    "            if \"_%dG_\"%(10*i) in file:\n",
    "                n_decays += i*10e9\n",
    "        print(\"opened %d/%d, with %d new decays\" % (ifile+1, len(files), n_decays-n_decays_0))\n",
    "\n",
    "        if ifile==0:\n",
    "            #preds = pd.read_csv(filepath+file)\n",
    "            preds = dd.read_csv(filepath+file)\n",
    "\n",
    "        else:\n",
    "            #preds = pd.concat((preds, pd.read_csv(filepath+file)))\n",
    "            preds0 = dd.read_csv(filepath+file)\n",
    "            preds = dd.multi.concat([preds, preds0])\n",
    "\n",
    "    return preds, n_decays\n",
    "    \n",
    "preds_sig, n_decays_sig = histsum(files_sig)\n",
    "preds_2pi, n_decays_2pi = histsum(files_2pi)\n",
    "preds_lam, n_decays_lam = histsum(files_lam)\n",
    "\n",
    "# working with this dataframe from now on\n",
    "preds_tot = preds_sig.assign(cls=1)\n",
    "preds_tot = dd.multi.concat([preds_tot, preds_2pi.assign(cls=0)])\n",
    "preds_tot = dd.multi.concat([preds_tot, preds_lam.assign(cls=5)])\n",
    "n_decays_tot = {\n",
    "    1 : n_decays_sig,\n",
    "    0 : n_decays_2pi,\n",
    "    5 : n_decays_lam,\n",
    "}"
   ]
  },
  {
   "cell_type": "code",
   "execution_count": null,
   "id": "3d34a151",
   "metadata": {
    "jupyter": {
     "source_hidden": true
    }
   },
   "outputs": [],
   "source": [
    "preds_tot.describe()"
   ]
  },
  {
   "cell_type": "code",
   "execution_count": null,
   "id": "c0a94407",
   "metadata": {
    "jupyter": {
     "source_hidden": true
    }
   },
   "outputs": [],
   "source": [
    "n_decays_tot"
   ]
  },
  {
   "cell_type": "code",
   "execution_count": null,
   "id": "a06a15ed",
   "metadata": {
    "jupyter": {
     "source_hidden": true
    }
   },
   "outputs": [],
   "source": [
    "# all general settings here\n",
    "\n",
    "bnorm = False\n",
    "\n",
    "clslabels = {\n",
    "    1 : \"k-pinunu\",\n",
    "    0 : \"k-2pi\",\n",
    "    5 : \"lambda-pin\",\n",
    "}\n",
    "\n",
    "clscolors = {\n",
    "    1 : \"Blues\",\n",
    "    0 : \"Oranges\",\n",
    "    5 : \"Greens\",\n",
    "}\n",
    "\n",
    "normfact = {\n",
    "    1 : 37800/n_decays_tot[1], #15483/n_decays_tot[1],\n",
    "    0 : 1089e9/n_decays_tot[0], #446e9/n_decays_tot[0],\n",
    "    5 : 20e13/n_decays_tot[5], #8.22e13/n_decays_tot[5],\n",
    "}\n",
    "\n",
    "shift_fv = 0 #150\n",
    "box_edges = (130-shift_fv, 190-shift_fv, 0.14, 10) #(280-shift_fv, 350-shift_fv, 0.14, 10)\n",
    "\n",
    "sig_sel = (0.5065, 0.5100)"
   ]
  },
  {
   "cell_type": "code",
   "execution_count": null,
   "id": "a68c8b68",
   "metadata": {
    "jupyter": {
     "source_hidden": true
    }
   },
   "outputs": [],
   "source": [
    "# add classifier predictions to main dataframe (pred0/1_bool)\n",
    "preds_tot = preds_tot.assign(pred0_bool=(preds_tot[\"pred0\"]>sig_sel[0]))\n",
    "preds_tot = preds_tot.assign(pred1_bool=(preds_tot[\"pred1\"]>sig_sel[1]))"
   ]
  },
  {
   "cell_type": "code",
   "execution_count": null,
   "id": "e5f40588",
   "metadata": {
    "jupyter": {
     "source_hidden": true
    }
   },
   "outputs": [],
   "source": [
    "# add squared weights to main dataframe (Wsq)\n",
    "preds_tot = preds_tot.assign(Wsq=(preds_tot[\"W\"]*preds_tot[\"W\"]))"
   ]
  },
  {
   "cell_type": "code",
   "execution_count": null,
   "id": "4e3ab9af",
   "metadata": {
    "jupyter": {
     "source_hidden": true
    }
   },
   "outputs": [],
   "source": [
    "# create sub-dataframe with events in fiducial box only\n",
    "preds_tot_fv = preds_tot\\\n",
    "    .query(f'Vertex_xRec_Z > {box_edges[0]}').query(f'Vertex_xRec_Z < {box_edges[1]}')\\\n",
    "    .query(f'Vertex_pRecPi_T > {box_edges[2]}').query(f'Vertex_pRecPi_T < {box_edges[3]}')"
   ]
  },
  {
   "cell_type": "markdown",
   "id": "ab0c6148",
   "metadata": {},
   "source": [
    "---"
   ]
  },
  {
   "cell_type": "code",
   "execution_count": null,
   "id": "91794949",
   "metadata": {
    "jupyter": {
     "source_hidden": true
    }
   },
   "outputs": [],
   "source": [
    "edges = (0.490, 0.510, 0.485, 0.545)  # BDT-BDT manually selected plot edges"
   ]
  },
  {
   "cell_type": "code",
   "execution_count": null,
   "id": "9fbeadc1",
   "metadata": {
    "jupyter": {
     "source_hidden": true
    }
   },
   "outputs": [],
   "source": [
    "time0 = time.time()  # BDT-BDT hist."
   ]
  },
  {
   "cell_type": "code",
   "execution_count": null,
   "id": "c1a35200",
   "metadata": {
    "jupyter": {
     "source_hidden": true
    }
   },
   "outputs": [],
   "source": [
    "# BDT-BDT hist.\n",
    "# no real-life statistics weight here\n",
    "\n",
    "hists = {}\n",
    "\n",
    "hists_fv = {}\n",
    "\n",
    "for cls in (1, 0, 5):\n",
    "    \n",
    "    # --> whole z-pt space\n",
    "    preds = preds_tot[preds_tot[\"cls\"]==cls]\n",
    "    hist = dask_histogram.histogram2d(\n",
    "        x=preds[\"pred0\"], y=preds[\"pred1\"], weights=preds[\"W\"],\n",
    "        bins=(np.linspace(edges[0], edges[1], 200), np.linspace(edges[2], edges[3], 200)),\n",
    "    )\n",
    "    hists.update({cls : np.array([x.compute() for x in hist])})\n",
    "\n",
    "    # --> fiducial box only\n",
    "    preds = preds_tot_fv[preds_tot_fv[\"cls\"]==cls]\n",
    "    hist = dask_histogram.histogram2d(\n",
    "        x=preds[\"pred0\"], y=preds[\"pred1\"], weights=preds[\"W\"],\n",
    "        bins=(np.linspace(edges[0], edges[1], 200), np.linspace(edges[2], edges[3], 200)),\n",
    "    )\n",
    "    hists_fv.update({cls : np.array([x.compute() for x in hist])})"
   ]
  },
  {
   "cell_type": "code",
   "execution_count": null,
   "id": "4eeaa7e1",
   "metadata": {
    "jupyter": {
     "source_hidden": true
    }
   },
   "outputs": [],
   "source": [
    "time1 = time.time()  # BDT-BDT hist.\n",
    "print(\"execution time: %f\" % (time1-time0))"
   ]
  },
  {
   "cell_type": "code",
   "execution_count": null,
   "id": "1e104604",
   "metadata": {
    "jupyter": {
     "source_hidden": true
    }
   },
   "outputs": [],
   "source": [
    "extent = [  # another expression of the plot edges (obtained from the histograms)\n",
    "    min(hists[1][1]), max(hists[1][1]), min(hists[1][2]), max(hists[1][2])\n",
    "]"
   ]
  },
  {
   "cell_type": "code",
   "execution_count": null,
   "id": "7c3f24cc",
   "metadata": {
    "jupyter": {
     "source_hidden": true
    }
   },
   "outputs": [],
   "source": [
    "# cut optimisation\n",
    "# real-life statistics weight is applied here\n",
    "\n",
    "sig_sel_old = sig_sel\n",
    "\n",
    "# function to minimise\n",
    "def scorer(cut0, cut1):\n",
    "    p = {}\n",
    "    \n",
    "    for cls in (1, 0, 5):\n",
    "        h = hists[cls]\n",
    "        z = h[0]\n",
    "        x, y = h[1][:-1]+0.5*(h[1][1]-h[1][0]), h[2][:-1]+0.5*(h[2][1]-h[2][0])\n",
    "        bool_x, bool_y = x>cut0, y>cut1\n",
    "        p.update({cls : np.sum(z[np.ix_(bool_x, bool_y)]) * normfact[cls]})\n",
    "        \n",
    "    return (-p[1] / np.sqrt(sum(p.values()))) #* (p[1]/60)**0.5\n",
    "\n",
    "#def scorer(cut1_0, cut1_1):\n",
    "#    p = {}\n",
    "#    \n",
    "#    for cls in (1, 0, 5):\n",
    "#        h = hists[cls]\n",
    "#        z = h[0]\n",
    "#        x, y = h[1][:-1]+0.5*(h[1][1]-h[1][0]), h[2][:-1]+0.5*(h[2][1]-h[2][0])\n",
    "#        xx, yy = np.meshgrid(x, y)\n",
    "#        bool_2d = \\\n",
    "#            ((xx>0.5025) & (xx<=0.5030) & (yy>cut1_0)) |\\\n",
    "#            ((xx>=0.5030) & (yy>cut1_1))\n",
    "#        p.update({cls : np.sum(z[bool_2d]) * normfact[cls]})\n",
    "#        \n",
    "#    return -p[1] / np.sqrt(sum(p.values()))\n",
    "\n",
    "#def scorer(cutdiag_m, cutdiag_q):\n",
    "#    p = {}\n",
    "#    \n",
    "#    for cls in (1, 0, 5):\n",
    "#        h = hists[cls]\n",
    "#        z = h[0]\n",
    "#        x, y = h[1][:-1]+0.5*(h[1][1]-h[1][0]), h[2][:-1]+0.5*(h[2][1]-h[2][0])\n",
    "#        xx, yy = np.meshgrid(x, y)\n",
    "#        bool_2d = (xx>cut0) & (yy>cut1) & (yy>(cutdiag_m*xx+cutdiag_q))\n",
    "#        p.update({cls : np.sum(z[bool_2d]) * normfact[cls]})\n",
    "#        \n",
    "#    return -p[1] / np.sqrt(sum(p.values()))\n",
    "\n",
    "# actual minimisation\n",
    "m = Minuit(\n",
    "    scorer,\n",
    "    cut0=sig_sel_old[0], cut1=sig_sel_old[1],\n",
    ")\n",
    "m.fixed['cut0'] = False\n",
    "m.fixed['cut1'] = False\n",
    "m.migrad()\n",
    "sig_sel_new = (\n",
    "    m.values.to_dict()[\"cut0\"],\n",
    "    m.values.to_dict()[\"cut1\"]\n",
    ")\n",
    "\n",
    "#m = Minuit(\n",
    "#    scorer,\n",
    "#    cut1_0=sig_sel_old[1]+1e-4, cut1_1=sig_sel_old[1]-1e-4,\n",
    "#)\n",
    "#m.fixed['cut1_0'] = False\n",
    "#m.fixed['cut1_1'] = False\n",
    "#m.migrad()\n",
    "#sig_sel_new = (\n",
    "#    m.values.to_dict()[\"cut1_0\"],\n",
    "#    m.values.to_dict()[\"cut1_1\"],\n",
    "#)\n",
    "\n",
    "#m = Minuit(\n",
    "#    scorer,\n",
    "#    cut0=sig_sel_old[0]-0.002, cut1=sig_sel_old[1]-0.01,\n",
    "#    cutdiag_m=-1/0.2, cutdiag_q=250*0.01\n",
    "#)\n",
    "#m.errors = [0.001, 0.01, 0.1, 0.1]\n",
    "#m.fixed['cut0'] = True\n",
    "#m.fixed['cut1'] = True\n",
    "#m.fixed['cutdiag_m'] = False\n",
    "#m.fixed['cutdiag_q'] = False\n",
    "#m.limits = [None, None, (None, 0), (0.1, None)]\n",
    "#m.migrad()\n",
    "#sig_sel_new = (\n",
    "#    m.values.to_dict()[\"cut0\"], m.values.to_dict()[\"cut1\"],\n",
    "#    m.values.to_dict()[\"cutdiag_m\"], m.values.to_dict()[\"cutdiag_q\"],\n",
    "#)\n",
    "\n",
    "print(\"optimal cut values found:\")\n",
    "print(sig_sel_new)\n",
    "\n",
    "if True:\n",
    "    print(\"replacing the old values:\")\n",
    "    print(sig_sel_old)\n",
    "    sig_sel = sig_sel_new\n",
    "    preds_tot = preds_tot.assign(pred0_bool=(preds_tot[\"pred0\"]>sig_sel[0]))\n",
    "    preds_tot = preds_tot.assign(pred1_bool=(preds_tot[\"pred1\"]>sig_sel[1]))\n",
    "    preds_tot_fv = preds_tot_fv.assign(pred0_bool=(preds_tot_fv[\"pred0\"]>sig_sel[0]))\n",
    "    preds_tot_fv = preds_tot_fv.assign(pred1_bool=(preds_tot_fv[\"pred1\"]>sig_sel[1]))"
   ]
  },
  {
   "cell_type": "code",
   "execution_count": null,
   "id": "26d50efa",
   "metadata": {
    "jupyter": {
     "source_hidden": true
    }
   },
   "outputs": [],
   "source": [
    "# BDT-BDT actual plot (whole z-pt plot) - after optimisation of the cuts\n",
    "# no real-life statistics weight here\n",
    "\n",
    "if True:\n",
    "    fig, axs = plt.subplots(figsize=(8, 6), nrows=2, ncols=2, sharex=True, sharey=True)\n",
    "    log = LogNorm() if False else None\n",
    "\n",
    "    # all 3 classes superimposed on one another\n",
    "    ax = axs[0, 0]\n",
    "    ax.set_xlim((extent[0], extent[1]))\n",
    "    ax.set_ylim((extent[2], extent[3]))\n",
    "    for cls in (5, 0, 1):\n",
    "        data = hists[cls][0].T\n",
    "        hist = np.ma.masked_where(data <= 0.0*np.max(data), data) / (np.sum(data) if bnorm else 1)\n",
    "        alpha = 1 if cls==5 else (0.6 if cls==1 else 0.7)\n",
    "        ax.matshow(hist,\n",
    "                   cmap=clscolors[cls], alpha=alpha,\n",
    "                   norm=None,\n",
    "                   extent=extent, origin=\"lower\", aspect=\"auto\",\n",
    "                  )\n",
    "        ax.plot((-1, -1), color=clscolors[cls][:-1].lower(), lw=0, marker=\"o\", label=\"true %s\" % clslabels[cls])\n",
    "    ax.grid(True)\n",
    "    ax.set_xlim(edges[0:2])\n",
    "    ax.set_ylim(edges[2:4])\n",
    "\n",
    "    # class 5\n",
    "    ax = axs[0, 1]\n",
    "    ax.set_xlim((extent[0], extent[1]))\n",
    "    ax.set_ylim((extent[2], extent[3]))\n",
    "    for cls in (5, 5):\n",
    "        data = hists[cls][0].T\n",
    "        hist = np.ma.masked_where(data <= 0.0*np.max(data), data) / (np.sum(data) if bnorm else 1)\n",
    "        ax.matshow(hist,\n",
    "                   cmap=clscolors[cls], alpha=1,\n",
    "                   norm=log,\n",
    "                   extent=extent, origin=\"lower\", aspect=\"auto\",\n",
    "                  )\n",
    "    ax.grid(True)\n",
    "    ax.set_xlim(edges[0:2])\n",
    "    ax.set_ylim(edges[2:4])\n",
    "\n",
    "    # class 0\n",
    "    ax = axs[1, 0]\n",
    "    ax.set_xlim((extent[0], extent[1]))\n",
    "    ax.set_ylim((extent[2], extent[3]))\n",
    "    for cls in (0, 0):\n",
    "        data = hists[cls][0].T\n",
    "        hist = np.ma.masked_where(data <= 0.0*np.max(data), data) / (np.sum(data) if bnorm else 1)\n",
    "        ax.matshow(hist,\n",
    "                   cmap=clscolors[cls], alpha=1,\n",
    "                   norm=log,\n",
    "                   extent=extent, origin=\"lower\", aspect=\"auto\",\n",
    "                  )\n",
    "    ax.grid(True)\n",
    "    ax.set_xlim(edges[0:2])\n",
    "    ax.set_ylim(edges[2:4])\n",
    "\n",
    "    # class 1\n",
    "    ax = axs[1, 1]\n",
    "    ax.set_xlim((extent[0], extent[1]))\n",
    "    ax.set_ylim((extent[2], extent[3]))\n",
    "    for cls in (1, 1):\n",
    "        data = hists[cls][0].T\n",
    "        hist = np.ma.masked_where(data <= 0.0*np.max(data), data) / (np.sum(data) if bnorm else 1)\n",
    "        ax.matshow(hist,\n",
    "                   cmap=clscolors[cls], alpha=1,\n",
    "                   norm=log,\n",
    "                   extent=extent, origin=\"lower\", aspect=\"auto\",\n",
    "                  )\n",
    "    ax.grid(True)\n",
    "    ax.set_xlim(edges[0:2])\n",
    "    ax.set_ylim(edges[2:4])\n",
    "\n",
    "    # lines in all plots\n",
    "    for i, ax0 in enumerate(axs):\n",
    "        for j, ax in enumerate(ax0):\n",
    "            ax.axvline(0.5, color=\"k\", lw=1)\n",
    "            ax.axhline(0.5, color=\"k\", lw=1)\n",
    "            ax.plot(\n",
    "                (sig_sel[0], sig_sel[0], edges[1]),\n",
    "                (edges[3], sig_sel[1], sig_sel[1]),\n",
    "                color=\"red\", lw=1, label=\"signal selection\" if ((i==0)&(j==0)) else None\n",
    "            )\n",
    "\n",
    "    fig.legend(loc=\"lower left\")\n",
    "    fig.supxlabel(\"output of the pinunu-2pi classifier\")\n",
    "    fig.supylabel(\"output of the pinunu-lambda classifier\")\n",
    "    fig.tight_layout()"
   ]
  },
  {
   "cell_type": "code",
   "execution_count": null,
   "id": "e4bb7036",
   "metadata": {
    "jupyter": {
     "source_hidden": true
    }
   },
   "outputs": [],
   "source": [
    "# BDT-BDT actual plot (fiducial box) - after optimisation of the cuts\n",
    "# no real-life statistics weight here\n",
    "\n",
    "if True:\n",
    "    fig, axs = plt.subplots(figsize=(8, 6), nrows=2, ncols=2, sharex=True, sharey=True)\n",
    "    log = LogNorm() if False else None\n",
    "\n",
    "    # all 3 classes superimposed on one another\n",
    "    ax = axs[0, 0]\n",
    "    ax.set_xlim((extent[0], extent[1]))\n",
    "    ax.set_ylim((extent[2], extent[3]))\n",
    "    for cls in (5, 0, 1):\n",
    "        data = hists_fv[cls][0].T\n",
    "        hist = np.ma.masked_where(data <= 0.0*np.max(data), data) / (np.sum(data) if bnorm else 1)\n",
    "        alpha = 1 if cls==5 else (0.6 if cls==1 else 0.7)\n",
    "        ax.matshow(hist,\n",
    "                   cmap=clscolors[cls], alpha=alpha,\n",
    "                   norm=None,\n",
    "                   extent=extent, origin=\"lower\", aspect=\"auto\",\n",
    "                  )\n",
    "        ax.plot((-1, -1), color=clscolors[cls][:-1].lower(), lw=0, marker=\"o\", label=\"true %s\" % clslabels[cls])\n",
    "    ax.grid(True)\n",
    "    ax.set_xlim(edges[0:2])\n",
    "    ax.set_ylim(edges[2:4])\n",
    "\n",
    "    # class 5\n",
    "    ax = axs[0, 1]\n",
    "    ax.set_xlim((extent[0], extent[1]))\n",
    "    ax.set_ylim((extent[2], extent[3]))\n",
    "    for cls in (5, 5):\n",
    "        data = hists_fv[cls][0].T\n",
    "        hist = np.ma.masked_where(data <= 0.0*np.max(data), data) / (np.sum(data) if bnorm else 1)\n",
    "        ax.matshow(hist,\n",
    "                   cmap=clscolors[cls], alpha=1,\n",
    "                   norm=log,\n",
    "                   extent=extent, origin=\"lower\", aspect=\"auto\",\n",
    "                  )\n",
    "    ax.grid(True)\n",
    "    ax.set_xlim(edges[0:2])\n",
    "    ax.set_ylim(edges[2:4])\n",
    "\n",
    "    # class 0\n",
    "    ax = axs[1, 0]\n",
    "    ax.set_xlim((extent[0], extent[1]))\n",
    "    ax.set_ylim((extent[2], extent[3]))\n",
    "    for cls in (0, 0):\n",
    "        data = hists_fv[cls][0].T\n",
    "        hist = np.ma.masked_where(data <= 0.0*np.max(data), data) / (np.sum(data) if bnorm else 1)\n",
    "        ax.matshow(hist,\n",
    "                   cmap=clscolors[cls], alpha=1,\n",
    "                   norm=log,\n",
    "                   extent=extent, origin=\"lower\", aspect=\"auto\",\n",
    "                  )\n",
    "    ax.grid(True)\n",
    "    ax.set_xlim(edges[0:2])\n",
    "    ax.set_ylim(edges[2:4])\n",
    "\n",
    "    # class 1\n",
    "    ax = axs[1, 1]\n",
    "    ax.set_xlim((extent[0], extent[1]))\n",
    "    ax.set_ylim((extent[2], extent[3]))\n",
    "    for cls in (1, 1):\n",
    "        data = hists_fv[cls][0].T\n",
    "        hist = np.ma.masked_where(data <= 0.0*np.max(data), data) / (np.sum(data) if bnorm else 1)\n",
    "        ax.matshow(hist,\n",
    "                   cmap=clscolors[cls], alpha=1,\n",
    "                   norm=log,\n",
    "                   extent=extent, origin=\"lower\", aspect=\"auto\",\n",
    "                  )\n",
    "    ax.grid(True)\n",
    "    ax.set_xlim(edges[0:2])\n",
    "    ax.set_ylim(edges[2:4])\n",
    "\n",
    "    # lines in all plots\n",
    "    for i, ax0 in enumerate(axs):\n",
    "        for j, ax in enumerate(ax0):\n",
    "            ax.axvline(0.5, color=\"k\", lw=1)\n",
    "            ax.axhline(0.5, color=\"k\", lw=1)\n",
    "            ax.plot(\n",
    "                (sig_sel[0], sig_sel[0], edges[1]),\n",
    "                (edges[3], sig_sel[1], sig_sel[1]),\n",
    "                color=\"red\", lw=1, label=\"signal selection\" if ((i==0)&(j==0)) else None\n",
    "            )\n",
    "\n",
    "    fig.legend(loc=\"lower left\")\n",
    "    fig.supxlabel(\"output of the pinunu-2pi classifier\")\n",
    "    fig.supylabel(\"output of the pinunu-lambda classifier\")\n",
    "    fig.tight_layout()"
   ]
  },
  {
   "cell_type": "code",
   "execution_count": null,
   "id": "be47c66f",
   "metadata": {
    "jupyter": {
     "source_hidden": true
    }
   },
   "outputs": [],
   "source": [
    "classnames = {\n",
    "    995 : \"lambda-pin\",\n",
    "    990 : \"k-2pi\",\n",
    "    1 : \"k-pinunu\",\n",
    "    0 : \"background\",\n",
    "}"
   ]
  },
  {
   "cell_type": "code",
   "execution_count": null,
   "id": "8d99df46",
   "metadata": {
    "jupyter": {
     "source_hidden": true
    }
   },
   "outputs": [],
   "source": [
    "# BDT-BDT actual plot - comparison between classes\n",
    "# real-life statistics weight is applied here\n",
    "\n",
    "blog = True\n",
    "\n",
    "for iclass in (1, 0, 5):\n",
    "    \n",
    "    fig, axs = plt.subplots(ncols=2, figsize=(12, 4))\n",
    "\n",
    "    ax = axs[0]\n",
    "    \n",
    "    cmap = plt.get_cmap(\"jet\").copy()\n",
    "    cmap.set_bad('white')\n",
    "    \n",
    "    ax.set_title(\"all\")\n",
    "    ax.set_xlim((extent[0], extent[1]))\n",
    "    ax.set_ylim((extent[2], extent[3]))\n",
    "\n",
    "    data = hists[iclass][0].T\n",
    "    data = data*normfact[iclass]\n",
    "    hist = np.ma.masked_where(data <1e-10, data) / (np.sum(data) if bnorm else 1)\n",
    "    cax = ax.matshow(hist, origin=\"lower\", extent=extent, aspect=\"auto\", norm=LogNorm(vmin=np.min(hist), vmax=np.max(hist), clip=True) if blog else None, cmap=cmap)\n",
    "    plt.subplot(121)\n",
    "    plt.colorbar(cax)\n",
    "    \n",
    "    ax.axhline(y=sig_sel[1], color=\"k\", lw=2)\n",
    "    ax.axvline(x=sig_sel[0], color=\"k\", lw=2)\n",
    "\n",
    "    ax = axs[1]\n",
    "    \n",
    "    cmap = plt.get_cmap(\"jet\").copy()\n",
    "    cmap.set_bad('white')\n",
    "    \n",
    "    ax.set_title(\"in fiducial box\")\n",
    "    ax.set_xlim((extent[0], extent[1]))\n",
    "    ax.set_ylim((extent[2], extent[3]))\n",
    "\n",
    "    data = hists_fv[iclass][0].T\n",
    "    data = data*normfact[iclass]\n",
    "    hist = np.ma.masked_where(data < 1e-10, data) / (np.sum(data) if bnorm else 1)\n",
    "    cax = ax.matshow(hist, origin=\"lower\", extent=extent, aspect=\"auto\", norm=LogNorm(vmin=np.min(hist), vmax=np.max(hist), clip=True) if blog else None, cmap=cmap)\n",
    "    plt.subplot(122)\n",
    "    plt.colorbar(cax)\n",
    "    \n",
    "    ax.axhline(y=sig_sel[1], color=\"k\", lw=2)\n",
    "    ax.axvline(x=sig_sel[0], color=\"k\", lw=2)\n",
    "\n",
    "    fig.suptitle(classnames[iclass if iclass==1 else (990+iclass)])\n",
    "    fig.tight_layout()"
   ]
  },
  {
   "cell_type": "markdown",
   "id": "98b72243",
   "metadata": {},
   "source": [
    "---"
   ]
  },
  {
   "cell_type": "code",
   "execution_count": null,
   "id": "6a18f74a",
   "metadata": {
    "jupyter": {
     "source_hidden": true
    }
   },
   "outputs": [],
   "source": [
    "time0 = time.time()  # z-pt pop. count"
   ]
  },
  {
   "cell_type": "code",
   "execution_count": null,
   "id": "57368f46",
   "metadata": {
    "jupyter": {
     "source_hidden": true
    }
   },
   "outputs": [],
   "source": [
    "# z-pt pop. count\n",
    "# real-life statistics weight is applied here\n",
    "\n",
    "preds = preds_tot\n",
    "n_tp = preds[(preds[\"cls\"] == 1) & ((preds[\"pred0_bool\"]) & (preds[\"pred1_bool\"]))][\"W\"].sum().compute()*normfact[1]\n",
    "#n_fn = preds[(preds[\"cls\"] == 1) & ((~preds[\"pred0_bool\"]) | (~preds[\"pred1_bool\"]))][\"W\"].sum().compute()*normfact[1]\n",
    "n_fp_2pi = preds[(preds[\"cls\"] == 0) & ((preds[\"pred0_bool\"]) & (preds[\"pred1_bool\"]))][\"W\"].sum().compute()*normfact[0]\n",
    "#n_tn_2pi = preds[(preds[\"cls\"] == 0) & ((~preds[\"pred0_bool\"]) | (~preds[\"pred1_bool\"]))][\"W\"].sum().compute()*normfact[0]\n",
    "n_fp_lambda = preds[(preds[\"cls\"] == 5) & ((preds[\"pred0_bool\"]) & (preds[\"pred1_bool\"]))][\"W\"].sum().compute()*normfact[5]\n",
    "#n_tn_lambda = preds[(preds[\"cls\"] == 5) & ((~preds[\"pred0_bool\"]) | (~preds[\"pred1_bool\"]))][\"W\"].sum().compute()*normfact[5]\n",
    "n_fp = n_fp_2pi + n_fp_lambda\n",
    "#n_tn = n_tn_2pi + n_tn_lambda\n",
    "\n",
    "e_n_tp = np.sqrt( preds[(preds[\"cls\"] == 1) & ((preds[\"pred0_bool\"]) & (preds[\"pred1_bool\"]))][\"Wsq\"].sum().compute()*normfact[1]**2 )\n",
    "#e_n_fn = np.sqrt( preds[(preds[\"cls\"] == 1) & ((~preds[\"pred0_bool\"]) | (~preds[\"pred1_bool\"]))][\"Wsq\"].sum().compute()*normfact[1]**2 )\n",
    "e_n_fp_2pi = np.sqrt( preds[(preds[\"cls\"] == 0) & ((preds[\"pred0_bool\"]) & (preds[\"pred1_bool\"]))][\"Wsq\"].sum().compute()*normfact[0]**2 )\n",
    "#e_n_tn_2pi = np.sqrt( preds[(preds[\"cls\"] == 0) & ((~preds[\"pred0_bool\"]) | (~preds[\"pred1_bool\"]))][\"Wsq\"].sum().compute()*normfact[0]**2 )\n",
    "e_n_fp_lambda = np.sqrt( preds[(preds[\"cls\"] == 5) & ((preds[\"pred0_bool\"]) & (preds[\"pred1_bool\"]))][\"Wsq\"].sum().compute()*normfact[5]**2 )\n",
    "#e_n_tn_lambda = np.sqrt( preds[(preds[\"cls\"] == 5) & ((~preds[\"pred0_bool\"]) | (~preds[\"pred1_bool\"]))][\"Wsq\"].sum().compute()*normfact[5]**2 )\n",
    "e_n_fp = np.sqrt( e_n_fp_2pi**2 + e_n_fp_lambda**2 )\n",
    "#e_n_tn = np.sqrt( n_tn_2pi**2 + n_tn_lambda**2 )\n",
    "\n",
    "preds = preds_tot_fv\n",
    "n_tp_fv = preds[(preds[\"cls\"] == 1) & ((preds[\"pred0_bool\"]) & (preds[\"pred1_bool\"]))][\"W\"].sum().compute()*normfact[1]\n",
    "#n_fn_fv = preds[(preds[\"cls\"] == 1) & ((~preds[\"pred0_bool\"]) | (~preds[\"pred1_bool\"]))][\"W\"].sum().compute()*normfact[1]\n",
    "n_fp_fv_2pi = preds[(preds[\"cls\"] == 0) & ((preds[\"pred0_bool\"]) & (preds[\"pred1_bool\"]))][\"W\"].sum().compute()*normfact[0]\n",
    "#n_tn_fv_2pi = preds[(preds[\"cls\"] == 0) & ((~preds[\"pred0_bool\"]) | (~preds[\"pred1_bool\"]))][\"W\"].sum().compute()*normfact[0]\n",
    "n_fp_fv_lambda = preds[(preds[\"cls\"] == 5) & ((preds[\"pred0_bool\"]) & (preds[\"pred1_bool\"]))][\"W\"].sum().compute()*normfact[5]\n",
    "#n_tn_fv_lambda = preds[(preds[\"cls\"] == 5) & ((~preds[\"pred0_bool\"]) | (~preds[\"pred1_bool\"]))][\"W\"].sum().compute()*normfact[5]\n",
    "n_fp_fv = n_fp_fv_2pi + n_fp_fv_lambda\n",
    "#n_tn_fv = n_tn_fv_2pi + n_tn_fv_lambda\n",
    "\n",
    "e_n_tp_fv = np.sqrt( preds[(preds[\"cls\"] == 1) & ((preds[\"pred0_bool\"]) & (preds[\"pred1_bool\"]))][\"Wsq\"].sum().compute()*normfact[1]**2 )\n",
    "#e_n_fn_fv = np.sqrt( preds[(preds[\"cls\"] == 1) & ((~preds[\"pred0_bool\"]) | (~preds[\"pred1_bool\"]))][\"Wsq\"].sum().compute()*normfact[1]**2 )\n",
    "e_n_fp_fv_2pi = np.sqrt( preds[(preds[\"cls\"] == 0) & ((preds[\"pred0_bool\"]) & (preds[\"pred1_bool\"]))][\"Wsq\"].sum().compute()*normfact[0]**2 )\n",
    "#e_n_tn_fv_2pi = np.sqrt( preds[(preds[\"cls\"] == 0) & ((~preds[\"pred0_bool\"]) | (~preds[\"pred1_bool\"]))][\"Wsq\"].sum().compute()*normfact[0]**2 )\n",
    "e_n_fp_fv_lambda = np.sqrt( preds[(preds[\"cls\"] == 5) & ((preds[\"pred0_bool\"]) & (preds[\"pred1_bool\"]))][\"Wsq\"].sum().compute()*normfact[5]**2 )\n",
    "#e_n_tn_fv_lambda = np.sqrt( preds[(preds[\"cls\"] == 5) & ((~preds[\"pred0_bool\"]) | (~preds[\"pred1_bool\"]))][\"Wsq\"].sum().compute()*normfact[5]**2 )\n",
    "e_n_fp_fv = np.sqrt( e_n_fp_fv_2pi**2 + e_n_fp_fv_lambda**2 )\n",
    "#e_n_tn_fv = np.sqrt( n_tn_2pi**2 + n_tn_lambda**2 )"
   ]
  },
  {
   "cell_type": "code",
   "execution_count": null,
   "id": "13bce1e6",
   "metadata": {
    "jupyter": {
     "source_hidden": true
    }
   },
   "outputs": [],
   "source": [
    "time1 = time.time()  # z-pt pop. count\n",
    "print(\"execution time: %f\" % (time1-time0))"
   ]
  },
  {
   "cell_type": "code",
   "execution_count": null,
   "id": "16457244",
   "metadata": {
    "jupyter": {
     "source_hidden": true
    }
   },
   "outputs": [],
   "source": [
    "print(\"in whole phase space:\")\n",
    "print(\"--> true signal: \\t\\t%.5f (%.5f)\" % (n_tp, e_n_tp))\n",
    "print(\"--> false signal (total): \\t%.5f (%.5f)\" % (n_fp, e_n_fp))\n",
    "print(\"--> false signal (2pi): \\t%.5f (%.5f)\" % (n_fp_2pi, e_n_fp_2pi))\n",
    "print(\"--> false signal (lambda): \\t%.5f (%.5f)\" % (n_fp_lambda, e_n_fp_lambda))\n",
    "\n",
    "print(\"\\nin fiducial box:\")\n",
    "print(\"--> true signal: \\t\\t%.5f (%.5f)\" % (n_tp_fv, e_n_tp_fv))\n",
    "print(\"--> false signal (total): \\t%.5f (%.5f)\" % (n_fp_fv, e_n_fp_fv))\n",
    "print(\"--> false signal (2pi): \\t%.5f (%.5f)\" % (n_fp_fv_2pi, e_n_fp_fv_2pi))\n",
    "print(\"--> false signal (lambda): \\t%.5f (%.5f)\" % (n_fp_fv_lambda, e_n_fp_fv_lambda))"
   ]
  },
  {
   "cell_type": "code",
   "execution_count": null,
   "id": "03ce2b32",
   "metadata": {
    "jupyter": {
     "source_hidden": true
    },
    "scrolled": true
   },
   "outputs": [],
   "source": [
    "def s_and_b_nofv(cut0, cut1):\n",
    "    p = {}\n",
    "    \n",
    "    for cls in (1, 0, 5):\n",
    "        h = hists[cls]\n",
    "        z = h[0]\n",
    "        x, y = h[1][:-1]+0.5*(h[1][1]-h[1][0]), h[2][:-1]+0.5*(h[2][1]-h[2][0])\n",
    "        bool_x, bool_y = x>cut0, y>cut1\n",
    "        p.update({cls : np.sum(z[np.ix_(bool_x, bool_y)]) * normfact[cls]})\n",
    "        \n",
    "    return p[1], p[0], p[5]\n",
    "\n",
    "def s_and_b(cut0, cut1):\n",
    "    p = {}\n",
    "    \n",
    "    for cls in (1, 0, 5):\n",
    "        h = hists_fv[cls]\n",
    "        z = h[0]\n",
    "        x, y = h[1][:-1]+0.5*(h[1][1]-h[1][0]), h[2][:-1]+0.5*(h[2][1]-h[2][0])\n",
    "        bool_x, bool_y = x>cut0, y>cut1\n",
    "        p.update({cls : np.sum(z[np.ix_(bool_x, bool_y)]) * normfact[cls]})\n",
    "        \n",
    "    return p[1], p[0], p[5]"
   ]
  },
  {
   "cell_type": "code",
   "execution_count": null,
   "id": "8225028d",
   "metadata": {
    "jupyter": {
     "source_hidden": true
    }
   },
   "outputs": [],
   "source": [
    "# count S/B and S/sqrt(S+B) for different cut combinations, without fiducial box\n",
    "# real-life statistics weight is applied here\n",
    "\n",
    "cuts0 = np.linspace(0.500, 0.508, 50)\n",
    "cuts1 = np.linspace(0.500, 0.516, 50)\n",
    "s_ref = 15  # 33 (15) with the short (long) case\n",
    "b_2pi_ref = 70  # 80 (70) with the short (long) case\n",
    "for icut, cut0 in enumerate(cuts0):\n",
    "    for jcut, cut1 in enumerate(cuts1):\n",
    "        s, b_2pi, b_lambda = s_and_b_nofv(cut0, cut1)\n",
    "        arrow = \"<\" if (abs(s-s_ref)<5) else \"\"  # arrows indicate that S or B are close to the LoI ones\n",
    "        arrow += \"<\" if (abs(b_2pi-b_2pi_ref)<5) else \"\"\n",
    "        asterisk = \"*\" if (abs(cut0-sig_sel[0])<0.0002) else \"\"  # asterisks indicate that one of the cut is close to the Minuit-optimised one\n",
    "        asterisk += \"*\" if (abs(cut1-sig_sel[1])<0.0002) else \"\"\n",
    "        rat = s / (b_2pi+b_lambda)\n",
    "        rat2 = s / (b_2pi+b_lambda*0.1)\n",
    "        sens = s / np.sqrt(s+b_2pi+b_lambda)\n",
    "        sens2 = s / np.sqrt(s+b_2pi+b_lambda*0.1)\n",
    "        print(\n",
    "            \"%.5f %.5f %5.2f %5.2f %5.2f %5.2f %5.2f %5.2f %5.2f %s%s%s\" % \\\n",
    "            (cut0, cut1, s, b_2pi, b_lambda, rat, rat2, sens, sens2, asterisk, \"\" if len(asterisk)>0 else \"\", arrow)\n",
    "        )\n",
    "        \n",
    "s, b_2pi, b_lambda = s_and_b_nofv(-10, -10)\n",
    "arrow = \"<\" if (abs(s-s_ref)<5) else \"\"  # arrows indicate that S or B are close to the LoI ones\n",
    "arrow += \"<\" if (abs(b_2pi-b_2pi_ref)<5) else \"\"\n",
    "asterisk = \"*\" if (abs(cut0-sig_sel[0])<0.0002) else \"\"  # asterisks indicate that one of the cut is close to the Minuit-optimised one\n",
    "asterisk += \"*\" if (abs(cut1-sig_sel[1])<0.0002) else \"\"\n",
    "rat = s / (b_2pi+b_lambda)\n",
    "rat2 = s / (b_2pi+b_lambda*0.1)\n",
    "sens = s / np.sqrt(s+b_2pi+b_lambda)\n",
    "sens2 = s / np.sqrt(s+b_2pi+b_lambda*0.1)\n",
    "print(\n",
    "    \"%.5f %.5f %5.2f %5.2f %5.2f %5.2f %5.2f %5.2f %5.2f %s%s%s\" % \\\n",
    "    (-10, -10, s, b_2pi, b_lambda, rat, rat2, sens, sens2, asterisk, \"\" if len(asterisk)>0 else \"\", arrow)\n",
    ")"
   ]
  },
  {
   "cell_type": "code",
   "execution_count": null,
   "id": "dba1f83a",
   "metadata": {
    "jupyter": {
     "source_hidden": true
    }
   },
   "outputs": [],
   "source": [
    "# count S/B and S/sqrt(S+B) for different cut combinations\n",
    "# real-life statistics weight is applied here\n",
    "\n",
    "cuts0 = np.linspace(0.500, 0.508, 50)\n",
    "cuts1 = np.linspace(0.500, 0.516, 50)\n",
    "s_ref = 15  # 33 (15) with the short (long) case\n",
    "b_2pi_ref = 70  # 80 (70) with the short (long) case\n",
    "for icut, cut0 in enumerate(cuts0):\n",
    "    for jcut, cut1 in enumerate(cuts1):\n",
    "        s, b_2pi, b_lambda = s_and_b(cut0, cut1)\n",
    "        arrow = \"<\" if (abs(s-s_ref)<5) else \"\"  # arrows indicate that S or B are close to the LoI ones\n",
    "        arrow += \"<\" if (abs(b_2pi-b_2pi_ref)<5) else \"\"\n",
    "        asterisk = \"*\" if (abs(cut0-sig_sel[0])<0.0002) else \"\"  # asterisks indicate that one of the cut is close to the Minuit-optimised one\n",
    "        asterisk += \"*\" if (abs(cut1-sig_sel[1])<0.0002) else \"\"\n",
    "        rat = s / (b_2pi+b_lambda)\n",
    "        rat2 = s / (b_2pi+b_lambda*0.1)\n",
    "        sens = s / np.sqrt(s+b_2pi+b_lambda)\n",
    "        sens2 = s / np.sqrt(s+b_2pi+b_lambda*0.1)\n",
    "        print(\n",
    "            \"%.5f %.5f %5.2f %5.2f %5.2f %5.2f %5.2f %5.2f %5.2f %s%s%s\" % \\\n",
    "            (cut0, cut1, s, b_2pi, b_lambda, rat, rat2, sens, sens2, asterisk, \"\" if len(asterisk)>0 else \"\", arrow)\n",
    "        )\n",
    "        \n",
    "s, b_2pi, b_lambda = s_and_b(-10, -10)\n",
    "arrow = \"<\" if (abs(s-s_ref)<5) else \"\"  # arrows indicate that S or B are close to the LoI ones\n",
    "arrow += \"<\" if (abs(b_2pi-b_2pi_ref)<5) else \"\"\n",
    "asterisk = \"*\" if (abs(cut0-sig_sel[0])<0.0002) else \"\"  # asterisks indicate that one of the cut is close to the Minuit-optimised one\n",
    "asterisk += \"*\" if (abs(cut1-sig_sel[1])<0.0002) else \"\"\n",
    "rat = s / (b_2pi+b_lambda)\n",
    "rat2 = s / (b_2pi+b_lambda*0.1)\n",
    "sens = s / np.sqrt(s+b_2pi+b_lambda)\n",
    "sens2 = s / np.sqrt(s+b_2pi+b_lambda*0.1)\n",
    "print(\n",
    "    \"%.5f %.5f %5.2f %5.2f %5.2f %5.2f %5.2f %5.2f %5.2f %s%s%s\" % \\\n",
    "    (-10, -10, s, b_2pi, b_lambda, rat, rat2, sens, sens2, asterisk, \"\" if len(asterisk)>0 else \"\", arrow)\n",
    ")"
   ]
  },
  {
   "cell_type": "markdown",
   "id": "4541eab8",
   "metadata": {},
   "source": [
    "---"
   ]
  },
  {
   "cell_type": "code",
   "execution_count": null,
   "id": "2964e28e",
   "metadata": {
    "jupyter": {
     "source_hidden": true
    }
   },
   "outputs": [],
   "source": [
    "# settings of the z-pt plots\n",
    "bins_zpt = (200, 100)\n",
    "edges_zpt = ((0-shift_fv, 250-shift_fv), (0, 0.4)) "
   ]
  },
  {
   "cell_type": "code",
   "execution_count": null,
   "id": "544cdf7b",
   "metadata": {
    "jupyter": {
     "source_hidden": true
    }
   },
   "outputs": [],
   "source": [
    "time0 = time.time()  # z-pt hist."
   ]
  },
  {
   "cell_type": "code",
   "execution_count": null,
   "id": "cbda0b01",
   "metadata": {
    "jupyter": {
     "source_hidden": true
    }
   },
   "outputs": [],
   "source": [
    "# z-pt hist.\n",
    "# no real-life statistics weight here\n",
    "\n",
    "hists_zpt = {}\n",
    "\n",
    "# true label: signal\n",
    "preds = preds_tot[preds_tot[\"cls\"]==1]\n",
    "hists_zpt.update({1 : {}})\n",
    "boolsig = (preds[\"pred0_bool\"]) & (preds[\"pred1_bool\"])\n",
    "\n",
    "# --> pred. label: signal\n",
    "hist = dask_histogram.histogram2d(\n",
    "    x=preds[boolsig][\"Vertex_xRec_Z\"], y=preds[boolsig][\"Vertex_pRecPi_T\"], weights=preds[boolsig][\"W\"],\n",
    "    bins=(np.linspace(edges_zpt[0][0], edges_zpt[0][1], bins_zpt[0]), np.linspace(edges_zpt[1][0], edges_zpt[1][1], bins_zpt[1])),\n",
    ")\n",
    "hists_zpt[1].update({1 : np.array([x.compute() for x in hist])})\n",
    "\n",
    "# --> pred. label: background (any)\n",
    "hist = dask_histogram.histogram2d(\n",
    "    x=preds[~boolsig][\"Vertex_xRec_Z\"], y=preds[~boolsig][\"Vertex_pRecPi_T\"], weights=preds[~boolsig][\"W\"],\n",
    "    bins=(np.linspace(edges_zpt[0][0], edges_zpt[0][1], bins_zpt[0]), np.linspace(edges_zpt[1][0], edges_zpt[1][1], bins_zpt[1])),\n",
    ")\n",
    "hists_zpt[1].update({0 : np.array([x.compute() for x in hist])})\n",
    "\n",
    "# true label: background (2pi - label 990)\n",
    "preds = preds_tot[preds_tot[\"cls\"]==0]\n",
    "hists_zpt.update({990 : {}})\n",
    "boolsig = (preds[\"pred0_bool\"]) & (preds[\"pred1_bool\"])  \n",
    "\n",
    "# --> pred. label: signal\n",
    "hist = dask_histogram.histogram2d(\n",
    "    x=preds[boolsig][\"Vertex_xRec_Z\"], y=preds[boolsig][\"Vertex_pRecPi_T\"], weights=preds[boolsig][\"W\"],\n",
    "    bins=(np.linspace(edges_zpt[0][0], edges_zpt[0][1], bins_zpt[0]), np.linspace(edges_zpt[1][0], edges_zpt[1][1], bins_zpt[1])),\n",
    ")\n",
    "hists_zpt[990].update({1 : np.array([x.compute() for x in hist])})\n",
    "\n",
    "# --> pred. label: background (any)\n",
    "hist = dask_histogram.histogram2d(\n",
    "    x=preds[~boolsig][\"Vertex_xRec_Z\"], y=preds[~boolsig][\"Vertex_pRecPi_T\"], weights=preds[~boolsig][\"W\"],\n",
    "    bins=(np.linspace(edges_zpt[0][0], edges_zpt[0][1], bins_zpt[0]), np.linspace(edges_zpt[1][0], edges_zpt[1][1], bins_zpt[1])),\n",
    ")\n",
    "hists_zpt[990].update({0 : np.array([x.compute() for x in hist])})\n",
    "\n",
    "# true label: background (lambda - label 995)\n",
    "preds = preds_tot[preds_tot[\"cls\"]==5]\n",
    "hists_zpt.update({995 : {}})\n",
    "boolsig = (preds[\"pred0_bool\"]) & (preds[\"pred1_bool\"])  \n",
    "\n",
    "# --> pred. label: signal\n",
    "hist = dask_histogram.histogram2d(\n",
    "    x=preds[boolsig][\"Vertex_xRec_Z\"], y=preds[boolsig][\"Vertex_pRecPi_T\"], weights=preds[boolsig][\"W\"],\n",
    "    bins=(np.linspace(edges_zpt[0][0], edges_zpt[0][1], bins_zpt[0]), np.linspace(edges_zpt[1][0], edges_zpt[1][1], bins_zpt[1])),\n",
    ")\n",
    "hists_zpt[995].update({1 : np.array([x.compute() for x in hist])})\n",
    "\n",
    "# --> pred. label: background (any)\n",
    "hist = dask_histogram.histogram2d(\n",
    "    x=preds[~boolsig][\"Vertex_xRec_Z\"], y=preds[~boolsig][\"Vertex_pRecPi_T\"], weights=preds[~boolsig][\"W\"],\n",
    "    bins=(np.linspace(edges_zpt[0][0], edges_zpt[0][1], bins_zpt[0]), np.linspace(edges_zpt[1][0], edges_zpt[1][1], bins_zpt[1])),\n",
    ")\n",
    "hists_zpt[995].update({0 : np.array([x.compute() for x in hist])})"
   ]
  },
  {
   "cell_type": "code",
   "execution_count": null,
   "id": "7099e0a4",
   "metadata": {
    "jupyter": {
     "source_hidden": true
    }
   },
   "outputs": [],
   "source": [
    "time1 = time.time()  # z-pt hist.\n",
    "print(\"execution time: %f\" % (time1-time0))"
   ]
  },
  {
   "cell_type": "code",
   "execution_count": null,
   "id": "93f65ca2",
   "metadata": {
    "jupyter": {
     "source_hidden": true
    }
   },
   "outputs": [],
   "source": [
    "# z-pt hist. again\n",
    "# real-life statistics weight is applied here, and stays below\n",
    "\n",
    "# true label: background (any - label 0)\n",
    "hists_zpt[0] = {\n",
    "    1 : [\n",
    "        hists_zpt[990][1][0]*normfact[0] + hists_zpt[995][1][0]*normfact[5],\n",
    "        hists_zpt[990][1][1],\n",
    "        hists_zpt[990][1][2]\n",
    "    ],\n",
    "    0 : [\n",
    "        hists_zpt[990][0][0]*normfact[0] + hists_zpt[995][0][0]*normfact[5],\n",
    "        hists_zpt[990][0][1],\n",
    "        hists_zpt[990][0][2]\n",
    "    ],\n",
    "}\n",
    "\n",
    "# also, rescale true signal\n",
    "hists_zpt[1][1][0] *= normfact[1]\n",
    "hists_zpt[1][0][0] *= normfact[1]"
   ]
  },
  {
   "cell_type": "code",
   "execution_count": null,
   "id": "fce0d6ab",
   "metadata": {
    "jupyter": {
     "source_hidden": true
    }
   },
   "outputs": [],
   "source": [
    "extent_zpt = [  # another expression of the plot edges (obtained from the histograms)\n",
    "    min(hists_zpt[1][1][1]), max(hists_zpt[1][1][1]), min(hists_zpt[1][1][2]), max(hists_zpt[1][1][2])\n",
    "]\n",
    "\n",
    "box = patches.Rectangle(  # fiducial volume box to be superimposed on the plots\n",
    "    (box_edges[0], box_edges[2]), box_edges[1]-box_edges[0], box_edges[3]-box_edges[2],\n",
    "    linewidth=1, edgecolor='0.5', facecolor='none', label=\"LoI fiducial box\"\n",
    ")"
   ]
  },
  {
   "cell_type": "code",
   "execution_count": null,
   "id": "83d1e715",
   "metadata": {
    "jupyter": {
     "source_hidden": true
    }
   },
   "outputs": [],
   "source": [
    "# z-pt plots - one per true label\n",
    "# real-life statistics weight is applied here, after rewriting hists_zpt\n",
    "\n",
    "fig, axs = plt.subplots(ncols=2, figsize=(10, 5))\n",
    "blog = True\n",
    "\n",
    "ax = axs[0]\n",
    "ax.set_title(\"true background\")\n",
    "ax.set_xlim((extent_zpt[0], extent_zpt[1]))\n",
    "ax.set_ylim((extent_zpt[2], extent_zpt[3]))\n",
    "ax.add_patch(copy(box))\n",
    "\n",
    "data = hists_zpt[0][0][0].T\n",
    "hist = np.ma.masked_where(data == 0, data) / (np.sum(data) if bnorm else 1)\n",
    "ax.matshow(hist, origin=\"lower\", extent=extent_zpt, aspect=\"auto\", norm=LogNorm() if blog else None, cmap=\"Reds\")\n",
    "ax.plot((-1, -1), color=\"r\", lw=0, marker=\"o\", label=\"pred. as background\")\n",
    "\n",
    "data = hists_zpt[0][1][0].T\n",
    "hist = np.ma.masked_where(data == 0, data) / (np.sum(data) if bnorm else 1)\n",
    "ax.matshow(hist, origin=\"lower\", extent=extent_zpt, aspect=\"auto\", norm=LogNorm() if blog else None, cmap=\"Blues\", alpha=0.6 if blog else 0.9)\n",
    "ax.plot((-1, -1), color=\"b\", lw=0, marker=\"o\", label=\"pred. as signal\")\n",
    "\n",
    "ax = axs[1]\n",
    "ax.set_title(\"true signal\")\n",
    "ax.set_xlim((extent_zpt[0], extent_zpt[1]))\n",
    "ax.set_ylim((extent_zpt[2], extent_zpt[3]))\n",
    "ax.add_patch(copy(box))\n",
    "\n",
    "data = hists_zpt[1][0][0].T\n",
    "hist = np.ma.masked_where(data == 0, data) / (np.sum(data) if bnorm else 1)\n",
    "ax.matshow(hist, origin=\"lower\", extent=extent_zpt, aspect=\"auto\", norm=LogNorm() if blog else None, cmap=\"Reds\")\n",
    "\n",
    "data = hists_zpt[1][1][0].T\n",
    "hist = np.ma.masked_where(data == 0, data) / (np.sum(data) if bnorm else 1)\n",
    "ax.matshow(hist, origin=\"lower\", extent=extent_zpt, aspect=\"auto\", norm=LogNorm() if blog else None, cmap=\"Blues\", alpha=0.6 if blog else 0.9)\n",
    "\n",
    "axs[0].legend(loc=\"upper left\")\n",
    "fig.tight_layout()"
   ]
  },
  {
   "cell_type": "code",
   "execution_count": null,
   "id": "22534b48",
   "metadata": {
    "jupyter": {
     "source_hidden": true
    }
   },
   "outputs": [],
   "source": [
    "# z-pt plots - one per predicted label\n",
    "# real-life statistics weight is applied here, after rewriting hists_zpt\n",
    "\n",
    "fig, axs = plt.subplots(ncols=2, figsize=(10, 5))\n",
    "blog = True\n",
    "\n",
    "pred_class = 0\n",
    "ax = axs[pred_class]\n",
    "ax.set_title(\"predicted as background\")\n",
    "ax.set_xlim((extent_zpt[0], extent_zpt[1]))\n",
    "ax.set_ylim((extent_zpt[2], extent_zpt[3]))\n",
    "ax.add_patch(copy(box))\n",
    "\n",
    "data = hists_zpt[0][0][0].T\n",
    "hist = np.ma.masked_where(data == 0, data) / (np.sum(data) if bnorm else 1)\n",
    "ax.matshow(hist, origin=\"lower\", extent=extent_zpt, aspect=\"auto\", norm=LogNorm() if blog else None, cmap=\"Reds\")\n",
    "ax.plot((-1, -1), color=\"r\", lw=0, marker=\"o\", label=\"true background\")\n",
    "\n",
    "data = hists_zpt[1][0][0].T\n",
    "hist = np.ma.masked_where(data == 0, data) / (np.sum(data) if bnorm else 1)\n",
    "ax.matshow(hist, origin=\"lower\", extent=extent_zpt, aspect=\"auto\", norm=LogNorm() if blog else None, cmap=\"Blues\", alpha=0.6 if blog else 0.9)\n",
    "ax.plot((-1, -1), color=\"b\", lw=0, marker=\"o\", label=\"true signal\")\n",
    "\n",
    "pred_class = 1\n",
    "ax = axs[pred_class]\n",
    "ax.set_title(\"predicted as signal\")\n",
    "ax.set_xlim((extent_zpt[0], extent_zpt[1]))\n",
    "ax.set_ylim((extent_zpt[2], extent_zpt[3]))\n",
    "ax.add_patch(copy(box))\n",
    "\n",
    "data = hists_zpt[0][1][0].T\n",
    "hist = np.ma.masked_where(data == 0, data) / (np.sum(data) if bnorm else 1)\n",
    "ax.matshow(hist, origin=\"lower\", extent=extent_zpt, aspect=\"auto\", norm=LogNorm() if blog else None, cmap=\"Reds\")\n",
    "\n",
    "data = hists_zpt[1][1][0].T\n",
    "hist = np.ma.masked_where(data == 0, data) / (np.sum(data) if bnorm else 1)\n",
    "ax.matshow(hist, origin=\"lower\", extent=extent_zpt, aspect=\"auto\", norm=LogNorm() if blog else None, cmap=\"Blues\", alpha=0.6 if blog else 0.9)\n",
    "\n",
    "axs[0].legend(loc=\"upper left\")\n",
    "fig.tight_layout()"
   ]
  },
  {
   "cell_type": "code",
   "execution_count": null,
   "id": "961868ec",
   "metadata": {
    "jupyter": {
     "source_hidden": true
    }
   },
   "outputs": [],
   "source": [
    "# z-pt plots - individual classes separately, all true lables and only signal-selected\n",
    "# real-life statistics weight is applied here, after rewriting hists_zpt\n",
    "\n",
    "cmap = plt.get_cmap(\"jet\").copy()\n",
    "cmap.set_bad('white')\n",
    "\n",
    "for iclass in (1, 990, 995):\n",
    "    \n",
    "    fig, axs = plt.subplots(ncols=2, figsize=(12, 4))\n",
    "    blog = False\n",
    "\n",
    "    ax = axs[0]\n",
    "    ax.set_title(\"all\")\n",
    "    ax.set_xlim((extent_zpt[0], extent_zpt[1]))\n",
    "    ax.set_ylim((extent_zpt[2], extent_zpt[3]))\n",
    "    ax.add_patch(copy(box))\n",
    "\n",
    "    data = hists_zpt[iclass][1][0].T + hists_zpt[iclass][0][0].T\n",
    "    hist = np.ma.masked_where(data == 0, data) / (np.sum(data) if bnorm else 1)\n",
    "    cax = ax.matshow(hist, origin=\"lower\", extent=extent_zpt, aspect=\"auto\", norm=LogNorm() if blog else None, cmap=cmap)\n",
    "    plt.subplot(121)\n",
    "    plt.colorbar(cax)\n",
    "\n",
    "    ax = axs[1]\n",
    "    ax.set_title(\"predicted as %s\" % classnames[1])\n",
    "    ax.set_xlim((extent_zpt[0], extent_zpt[1]))\n",
    "    ax.set_ylim((extent_zpt[2], extent_zpt[3]))\n",
    "    ax.add_patch(copy(box))\n",
    "\n",
    "    data = hists_zpt[iclass][1][0].T\n",
    "    hist = np.ma.masked_where(data == 0, data) / (np.sum(data) if bnorm else 1)\n",
    "    cax = ax.matshow(hist, origin=\"lower\", extent=extent_zpt, aspect=\"auto\", norm=LogNorm() if blog else None, cmap=cmap)\n",
    "    plt.subplot(122)\n",
    "    plt.colorbar(cax)\n",
    "\n",
    "    fig.suptitle(classnames[iclass])\n",
    "    fig.tight_layout()"
   ]
  }
 ],
 "metadata": {
  "@webio": {
   "lastCommId": null,
   "lastKernelId": null
  },
  "kernelspec": {
   "display_name": "Python 3",
   "language": "python",
   "name": "python3"
  },
  "language_info": {
   "codemirror_mode": {
    "name": "ipython",
    "version": 3
   },
   "file_extension": ".py",
   "mimetype": "text/x-python",
   "name": "python",
   "nbconvert_exporter": "python",
   "pygments_lexer": "ipython3",
   "version": "3.9.12"
  }
 },
 "nbformat": 4,
 "nbformat_minor": 5
}
