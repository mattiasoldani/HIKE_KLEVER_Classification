{
 "cells": [
  {
   "cell_type": "code",
   "execution_count": null,
   "id": "50cc96bb",
   "metadata": {
    "jupyter": {
     "source_hidden": true
    }
   },
   "outputs": [],
   "source": [
    "import os\n",
    "import pickle\n",
    "import pandas as pd\n",
    "import numpy as np\n",
    "import matplotlib.pyplot as plt"
   ]
  },
  {
   "cell_type": "code",
   "execution_count": null,
   "id": "bc6a4403",
   "metadata": {
    "jupyter": {
     "source_hidden": true
    }
   },
   "outputs": [],
   "source": [
    "filepath = \"/DATA_MASTER_PATH/23_hike_pinunu-background/2308_zoptical-zanalyze_final_vars/pred_norm_conv1plus_withgencls_FINAL/\"\n",
    "\n",
    "def filesel(s):\n",
    "    #sel = (\"_0.\" in s)\n",
    "    sel = (\"sig_mal\" in s) | (\"bkg_2p0_mal\" in s)\n",
    "    #sel = True\n",
    "    return sel\n",
    "\n",
    "files_2pi = [s for s in os.listdir(filepath) if ((os.path.isfile(os.path.join(filepath, s))) & filesel(s) & (\"2p0_mal\" in s))]\n",
    "files_sig = [s for s in os.listdir(filepath) if ((os.path.isfile(os.path.join(filepath, s))) & filesel(s) & (\"sig_mal\" in s))]\n",
    "files_lam = [s for s in os.listdir(filepath) if ((os.path.isfile(os.path.join(filepath, s))) & filesel(s) & (\"lambda\" in s))]\n",
    "\n",
    "files_bkg = files_2pi"
   ]
  },
  {
   "cell_type": "code",
   "execution_count": null,
   "id": "ff1b05bd",
   "metadata": {
    "jupyter": {
     "source_hidden": true
    },
    "scrolled": true
   },
   "outputs": [],
   "source": [
    "def histsum(files):\n",
    "\n",
    "    n_decays = 0\n",
    "\n",
    "    for ifile, file, in enumerate(files):\n",
    "            \n",
    "        n_decays_0 = n_decays\n",
    "        for i in range(1, 10):\n",
    "            if \"_%dM_\"%(i) in file:\n",
    "                n_decays += i*1e6\n",
    "            if \"_%dM_\"%(10*i) in file:\n",
    "                n_decays += i*10e6\n",
    "            if \"_%dM_\"%(100*i) in file:\n",
    "                n_decays += i*100e6\n",
    "            if \"_%dG_\"%(i) in file:\n",
    "                n_decays += i*1e9\n",
    "            if \"_%dG_\"%(10*i) in file:\n",
    "                n_decays += i*10e9\n",
    "        print(\"opened %d/%d, with %d new decays\" % (ifile+1, len(files), n_decays-n_decays_0))\n",
    "\n",
    "        if ifile==0:\n",
    "            preds0 = pd.read_csv(filepath+file)\n",
    "            preds = preds0[[\"pred0\"]]\n",
    "\n",
    "        else:\n",
    "            if ifile<100:\n",
    "                preds0 = pd.read_csv(filepath+file)\n",
    "                preds = pd.concat((preds, preds0[[\"pred0\"]]))\n",
    "\n",
    "    return preds, n_decays\n",
    "    \n",
    "preds_bkg, n_decays_bkg = histsum(files_bkg)\n",
    "preds_sig, n_decays_sig = histsum(files_sig)\n",
    "\n",
    "normfact_sig = 15483/n_decays_sig\n",
    "normfact_bkg = (446e9/n_decays_bkg) if files_bkg==files_2pi else (8.22e13/n_decays_bkg)"
   ]
  },
  {
   "cell_type": "code",
   "execution_count": null,
   "id": "f598246b",
   "metadata": {
    "jupyter": {
     "source_hidden": true
    }
   },
   "outputs": [],
   "source": [
    "# manually add weights in case of old prediction files\n",
    "if not (\"W\" in preds_bkg.columns):\n",
    "    print(\"manually adding weights to preds_bkg\")\n",
    "    preds_bkg[\"W\"] = 1\n",
    "if not (\"W\" in preds_sig.columns):\n",
    "    print(\"manually adding weights to preds_sig\")\n",
    "    preds_sig[\"W\"] = 1\n",
    "    \n",
    "# also add dummy values of the final phase-space variables in case of old prediction files\n",
    "if False:\n",
    "    if not (\"Vertex_xRec_Z\" in preds_bkg.columns):\n",
    "        print(\"manually adding Vertex_xRec_Z to preds_bkg\")\n",
    "        preds_bkg[\"Vertex_xRec_Z\"] = -9999\n",
    "    if not (\"Vertex_xRec_Z\" in preds_sig.columns):\n",
    "        print(\"manually adding Vertex_xRec_Z to preds_sig\")\n",
    "        preds_sig[\"Vertex_xRec_Z\"] = -9999\n",
    "\n",
    "    if not (\"Vertex_pRecPi_T\" in preds_bkg.columns):\n",
    "        print(\"manually adding Vertex_pRecPi_T to preds_bkg\")\n",
    "        preds_bkg[\"Vertex_pRecPi_T\"] = -9999\n",
    "    if not (\"Vertex_pRecPi_T\" in preds_sig.columns):\n",
    "        print(\"manually adding Vertex_pRecPi_T to preds_sig\")\n",
    "        preds_sig[\"Vertex_pRecPi_T\"] = -9999"
   ]
  },
  {
   "cell_type": "code",
   "execution_count": null,
   "id": "de1db820",
   "metadata": {
    "jupyter": {
     "source_hidden": true
    }
   },
   "outputs": [],
   "source": [
    "# also open classifiers\n",
    "clss = []\n",
    "fileclsnames = [\n",
    "    \"/eos/user/m/msoldani/succo/postdocs/23-25_lnf/hike_sensitivity/pinunu_vs_background/classification/23_09_bdt_first_results_SHORTBL/signal_vs_2pi_normalised/bdt_ab.pickle\",\n",
    "    \"/eos/user/m/msoldani/succo/postdocs/23-25_lnf/hike_sensitivity/pinunu_vs_background/classification/23_09_bdt_first_results_SHORTBL/signal_vs_lambda_normalised/bdt_ab.pickle\"\n",
    "]\n",
    "for fileclsname in fileclsnames:\n",
    "    with open(fileclsname, 'rb') as filecls:\n",
    "        clstemp = pickle.load(filecls)\n",
    "    clss.append(clstemp)\n",
    "print(\"classifiers loaded\")"
   ]
  },
  {
   "cell_type": "code",
   "execution_count": null,
   "id": "12503790",
   "metadata": {
    "jupyter": {
     "source_hidden": true
    }
   },
   "outputs": [],
   "source": [
    "cls = clss[0] if type(clss[0])!=tuple else clss[0][0]\n",
    "cut0 = cls[\"output_cut\"][cls[\"output_cut\"][\"used_for_evaluation\"]]\n",
    "\n",
    "score_cut_0 = []\n",
    "score_cut_1 = []\n",
    "score_cut_2 = []\n",
    "cuts = np.linspace(cut0, 0.510, 50)\n",
    "for cut in cuts:\n",
    "    score_cut_0.append(\n",
    "        len(preds_bkg[preds_bkg[\"pred0\"]<cut][\"pred0\"])\n",
    "        #sum(preds_bkg[preds_bkg[\"pred0\"]<cut][\"W\"])\n",
    "    )\n",
    "    score_cut_1.append(\n",
    "        len(preds_sig[preds_sig[\"pred0\"]>cut][\"pred0\"])\n",
    "        #sum(preds_sig[preds_sig[\"pred0\"]>cut][\"W\"])\n",
    "    )\n",
    "    score_cut_2.append(\n",
    "        len(preds_bkg[preds_bkg[\"pred0\"]>cut][\"pred0\"])\n",
    "        #sum(preds_bkg[preds_bkg[\"pred0\"]>cut][\"W\"])\n",
    "    )"
   ]
  },
  {
   "cell_type": "code",
   "execution_count": null,
   "id": "eb7b4369",
   "metadata": {
    "jupyter": {
     "source_hidden": true
    }
   },
   "outputs": [],
   "source": [
    "fig = plt.figure(figsize=(7, 5))\n",
    "\n",
    "plt.subplot(211)\n",
    "preds_bkg[\"pred0\"].hist(bins=100, histtype=\"step\", label=\"true background\", weights=preds_bkg[\"W\"]*normfact_bkg)\n",
    "preds_sig[\"pred0\"].hist(bins=100, histtype=\"step\", label=\"true signal\", weights=preds_sig[\"W\"]*normfact_sig)\n",
    "\n",
    "plt.subplot(212)\n",
    "plt.yscale(\"log\")\n",
    "preds_bkg[\"pred0\"].hist(bins=100, histtype=\"step\", weights=preds_bkg[\"W\"]*normfact_bkg)\n",
    "preds_sig[\"pred0\"].hist(bins=100, histtype=\"step\", weights=preds_sig[\"W\"]*normfact_sig)\n",
    "\n",
    "plt.subplot(211)\n",
    "plt.axvline(cut0, color=\"black\", label=\"original cut\")\n",
    "#if (\"_norm\" in filepath):\n",
    "#    plt.axvline(0.5018, color=\"red\", ls=\"-\", label=\"new cut 0.5018\")\n",
    "#    plt.axvline(0.5030, color=\"red\", ls=\"--\", label=\"new cut 0.5030\")\n",
    "#    plt.axvline(0.5027, color=\"red\", ls=\":\", label=\"new cut 0.5027\")\n",
    "#if (\"_norm_conv1plus\" in filepath):\n",
    "#    plt.axvline(0.5055, color=\"red\", ls=\"-\", label=\"new cut 0.5018\")\n",
    "if (\"_norm_conv1plus_withgencls\" in filepath):\n",
    "    if (\"SHORTBL\" in filepath):\n",
    "        plt.axvline(0.5065, color=\"red\", ls=\"-\", label=\"new cut 0.5065\")\n",
    "    else:\n",
    "        plt.axvline(0.5030, color=\"red\", ls=\"-\", label=\"new cut 0.5030\")\n",
    "\n",
    "plt.subplot(212)\n",
    "plt.axvline(cut0, color=\"black\")\n",
    "#if (\"_norm\" in filepath):\n",
    "#    plt.axvline(0.5018, color=\"red\", ls=\"-\")\n",
    "#    plt.axvline(0.5030, color=\"red\", ls=\"--\")\n",
    "#    plt.axvline(0.5027, color=\"red\", ls=\":\")\n",
    "#if (\"_norm_conv1plus\" in filepath):\n",
    "#    plt.axvline(0.5055, color=\"red\", ls=\"-\")\n",
    "if (\"_norm_conv1plus_withgencls\" in filepath):\n",
    "    if (\"SHORTBL\" in filepath):\n",
    "        plt.axvline(0.5065, color=\"red\", ls=\"-\")\n",
    "    else:\n",
    "        plt.axvline(0.5030, color=\"red\", ls=\"-\")\n",
    "\n",
    "fig.legend(loc=\"upper left\")\n",
    "fig.tight_layout()"
   ]
  },
  {
   "cell_type": "code",
   "execution_count": null,
   "id": "ea779893",
   "metadata": {
    "jupyter": {
     "source_hidden": true
    }
   },
   "outputs": [],
   "source": [
    "fig, axs = plt.subplots(figsize=(10, 5), ncols=2)\n",
    "\n",
    "ax = axs[0]\n",
    "ax.axvline(cut0, color=\"black\", label=\"old cut\")\n",
    "#if (\"_norm\" in filepath):\n",
    "#    ax.axvline(0.5018, color=\"red\", ls=\"-\", label=\"new cut 0.5018\")\n",
    "#    ax.axvline(0.5030, color=\"red\", ls=\"--\", label=\"new cut 0.5030\")\n",
    "#    ax.axvline(0.5027, color=\"red\", ls=\":\", label=\"new cut 0.5027\")\n",
    "#if (\"_norm_conv1plus\" in filepath):\n",
    "#    plt.axvline(0.5055, color=\"red\", ls=\"-\", label=\"new cut 0.5018\")\n",
    "if (\"_norm_conv1plus_withgencls\" in filepath):\n",
    "    if (\"SHORTBL\" in filepath):\n",
    "        ax.axvline(0.5065, color=\"red\", ls=\"-\", label=\"new cut 0.5065\")\n",
    "        ax.set_xlim((0.4995, 0.507))\n",
    "    else:\n",
    "        ax.axvline(0.5030, color=\"red\", ls=\"-\", label=\"new cut 0.5030\")\n",
    "        ax.set_xlim((0.4995, 0.504))\n",
    "\n",
    "#axr = ax.twinx()\n",
    "ax.plot(cuts, np.array(score_cut_2)/score_cut_2[0], color=\"C0\", label=\"bkg > x\")\n",
    "ax.plot(cuts, np.array(score_cut_1)/score_cut_1[0], color=\"C1\", label=\"sig > x\")\n",
    "#axr.plot(cuts, np.array(score_cut_0)/score_cut_0[0], color=\"C2\", ls=\"-.\", label=\"bkg < x (right axis)\")\n",
    "ax.grid()\n",
    "\n",
    "ax = axs[1]\n",
    "ax.axvline(cut0, color=\"black\")\n",
    "#if (\"_norm\" in filepath):\n",
    "#    ax.axvline(0.5018, color=\"red\", ls=\"-\")\n",
    "#    ax.axvline(0.5030, color=\"red\", ls=\"--\")\n",
    "#    ax.axvline(0.5027, color=\"red\", ls=\":\")\n",
    "#if (\"_norm_conv1plus\" in filepath):\n",
    "#    plt.axvline(0.5055, color=\"red\", ls=\"-\")\n",
    "if (\"_norm_conv1plus_withgencls\" in filepath):\n",
    "    if (\"SHORTBL\" in filepath):\n",
    "        ax.axvline(0.5065, color=\"red\", ls=\"-\")\n",
    "        ax.set_xlim((0.4995, 0.507))\n",
    "    else:\n",
    "        ax.axvline(0.5030, color=\"red\", ls=\"-\")\n",
    "        ax.set_xlim((0.4995, 0.504))\n",
    "ax.set_yscale(\"log\")\n",
    "\n",
    "#axr = ax.twinx()\n",
    "\n",
    "ax.plot(cuts, np.array(score_cut_2)/score_cut_2[0], color=\"C0\")\n",
    "ax.plot(cuts, np.array(score_cut_1)/score_cut_1[0], color=\"C1\")\n",
    "#axr.plot(cuts, np.array(score_cut_0)/score_cut_0[0], color=\"C2\", ls=\"-.\")\n",
    "ax.grid()\n",
    "fig.legend(loc=\"upper left\")\n",
    "fig.tight_layout()"
   ]
  }
 ],
 "metadata": {
  "@webio": {
   "lastCommId": null,
   "lastKernelId": null
  },
  "kernelspec": {
   "display_name": "Python 3",
   "language": "python",
   "name": "python3"
  },
  "language_info": {
   "codemirror_mode": {
    "name": "ipython",
    "version": 3
   },
   "file_extension": ".py",
   "mimetype": "text/x-python",
   "name": "python",
   "nbconvert_exporter": "python",
   "pygments_lexer": "ipython3",
   "version": "3.9.12"
  }
 },
 "nbformat": 4,
 "nbformat_minor": 5
}
